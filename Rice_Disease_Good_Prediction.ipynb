{
  "nbformat": 4,
  "nbformat_minor": 0,
  "metadata": {
    "colab": {
      "provenance": [],
      "gpuType": "T4",
      "include_colab_link": true
    },
    "kernelspec": {
      "name": "python3",
      "display_name": "Python 3"
    },
    "language_info": {
      "name": "python"
    },
    "accelerator": "GPU"
  },
  "cells": [
    {
      "cell_type": "markdown",
      "metadata": {
        "id": "view-in-github",
        "colab_type": "text"
      },
      "source": [
        "<a href=\"https://colab.research.google.com/github/hafizaah95/CapstoneProject-ML/blob/main/Rice_Disease_Good_Prediction.ipynb\" target=\"_parent\"><img src=\"https://colab.research.google.com/assets/colab-badge.svg\" alt=\"Open In Colab\"/></a>"
      ]
    },
    {
      "cell_type": "code",
      "source": [
        "pip install --upgrade tensorflow"
      ],
      "metadata": {
        "colab": {
          "base_uri": "https://localhost:8080/"
        },
        "id": "drK3NPTZyRFO",
        "outputId": "fefe7a03-07ef-4f84-d079-106be524fcc4"
      },
      "execution_count": 1,
      "outputs": [
        {
          "output_type": "stream",
          "name": "stdout",
          "text": [
            "Looking in indexes: https://pypi.org/simple, https://us-python.pkg.dev/colab-wheels/public/simple/\n",
            "Requirement already satisfied: tensorflow in /usr/local/lib/python3.10/dist-packages (2.12.0)\n",
            "Requirement already satisfied: absl-py>=1.0.0 in /usr/local/lib/python3.10/dist-packages (from tensorflow) (1.4.0)\n",
            "Requirement already satisfied: astunparse>=1.6.0 in /usr/local/lib/python3.10/dist-packages (from tensorflow) (1.6.3)\n",
            "Requirement already satisfied: flatbuffers>=2.0 in /usr/local/lib/python3.10/dist-packages (from tensorflow) (23.3.3)\n",
            "Requirement already satisfied: gast<=0.4.0,>=0.2.1 in /usr/local/lib/python3.10/dist-packages (from tensorflow) (0.4.0)\n",
            "Requirement already satisfied: google-pasta>=0.1.1 in /usr/local/lib/python3.10/dist-packages (from tensorflow) (0.2.0)\n",
            "Requirement already satisfied: grpcio<2.0,>=1.24.3 in /usr/local/lib/python3.10/dist-packages (from tensorflow) (1.54.0)\n",
            "Requirement already satisfied: h5py>=2.9.0 in /usr/local/lib/python3.10/dist-packages (from tensorflow) (3.8.0)\n",
            "Requirement already satisfied: jax>=0.3.15 in /usr/local/lib/python3.10/dist-packages (from tensorflow) (0.4.10)\n",
            "Requirement already satisfied: keras<2.13,>=2.12.0 in /usr/local/lib/python3.10/dist-packages (from tensorflow) (2.12.0)\n",
            "Requirement already satisfied: libclang>=13.0.0 in /usr/local/lib/python3.10/dist-packages (from tensorflow) (16.0.0)\n",
            "Requirement already satisfied: numpy<1.24,>=1.22 in /usr/local/lib/python3.10/dist-packages (from tensorflow) (1.22.4)\n",
            "Requirement already satisfied: opt-einsum>=2.3.2 in /usr/local/lib/python3.10/dist-packages (from tensorflow) (3.3.0)\n",
            "Requirement already satisfied: packaging in /usr/local/lib/python3.10/dist-packages (from tensorflow) (23.1)\n",
            "Requirement already satisfied: protobuf!=4.21.0,!=4.21.1,!=4.21.2,!=4.21.3,!=4.21.4,!=4.21.5,<5.0.0dev,>=3.20.3 in /usr/local/lib/python3.10/dist-packages (from tensorflow) (3.20.3)\n",
            "Requirement already satisfied: setuptools in /usr/local/lib/python3.10/dist-packages (from tensorflow) (67.7.2)\n",
            "Requirement already satisfied: six>=1.12.0 in /usr/local/lib/python3.10/dist-packages (from tensorflow) (1.16.0)\n",
            "Requirement already satisfied: tensorboard<2.13,>=2.12 in /usr/local/lib/python3.10/dist-packages (from tensorflow) (2.12.2)\n",
            "Requirement already satisfied: tensorflow-estimator<2.13,>=2.12.0 in /usr/local/lib/python3.10/dist-packages (from tensorflow) (2.12.0)\n",
            "Requirement already satisfied: termcolor>=1.1.0 in /usr/local/lib/python3.10/dist-packages (from tensorflow) (2.3.0)\n",
            "Requirement already satisfied: typing-extensions>=3.6.6 in /usr/local/lib/python3.10/dist-packages (from tensorflow) (4.5.0)\n",
            "Requirement already satisfied: wrapt<1.15,>=1.11.0 in /usr/local/lib/python3.10/dist-packages (from tensorflow) (1.14.1)\n",
            "Requirement already satisfied: tensorflow-io-gcs-filesystem>=0.23.1 in /usr/local/lib/python3.10/dist-packages (from tensorflow) (0.32.0)\n",
            "Requirement already satisfied: wheel<1.0,>=0.23.0 in /usr/local/lib/python3.10/dist-packages (from astunparse>=1.6.0->tensorflow) (0.40.0)\n",
            "Requirement already satisfied: ml-dtypes>=0.1.0 in /usr/local/lib/python3.10/dist-packages (from jax>=0.3.15->tensorflow) (0.1.0)\n",
            "Requirement already satisfied: scipy>=1.7 in /usr/local/lib/python3.10/dist-packages (from jax>=0.3.15->tensorflow) (1.10.1)\n",
            "Requirement already satisfied: google-auth<3,>=1.6.3 in /usr/local/lib/python3.10/dist-packages (from tensorboard<2.13,>=2.12->tensorflow) (2.17.3)\n",
            "Requirement already satisfied: google-auth-oauthlib<1.1,>=0.5 in /usr/local/lib/python3.10/dist-packages (from tensorboard<2.13,>=2.12->tensorflow) (1.0.0)\n",
            "Requirement already satisfied: markdown>=2.6.8 in /usr/local/lib/python3.10/dist-packages (from tensorboard<2.13,>=2.12->tensorflow) (3.4.3)\n",
            "Requirement already satisfied: requests<3,>=2.21.0 in /usr/local/lib/python3.10/dist-packages (from tensorboard<2.13,>=2.12->tensorflow) (2.27.1)\n",
            "Requirement already satisfied: tensorboard-data-server<0.8.0,>=0.7.0 in /usr/local/lib/python3.10/dist-packages (from tensorboard<2.13,>=2.12->tensorflow) (0.7.0)\n",
            "Requirement already satisfied: tensorboard-plugin-wit>=1.6.0 in /usr/local/lib/python3.10/dist-packages (from tensorboard<2.13,>=2.12->tensorflow) (1.8.1)\n",
            "Requirement already satisfied: werkzeug>=1.0.1 in /usr/local/lib/python3.10/dist-packages (from tensorboard<2.13,>=2.12->tensorflow) (2.3.0)\n",
            "Requirement already satisfied: cachetools<6.0,>=2.0.0 in /usr/local/lib/python3.10/dist-packages (from google-auth<3,>=1.6.3->tensorboard<2.13,>=2.12->tensorflow) (5.3.0)\n",
            "Requirement already satisfied: pyasn1-modules>=0.2.1 in /usr/local/lib/python3.10/dist-packages (from google-auth<3,>=1.6.3->tensorboard<2.13,>=2.12->tensorflow) (0.3.0)\n",
            "Requirement already satisfied: rsa<5,>=3.1.4 in /usr/local/lib/python3.10/dist-packages (from google-auth<3,>=1.6.3->tensorboard<2.13,>=2.12->tensorflow) (4.9)\n",
            "Requirement already satisfied: requests-oauthlib>=0.7.0 in /usr/local/lib/python3.10/dist-packages (from google-auth-oauthlib<1.1,>=0.5->tensorboard<2.13,>=2.12->tensorflow) (1.3.1)\n",
            "Requirement already satisfied: urllib3<1.27,>=1.21.1 in /usr/local/lib/python3.10/dist-packages (from requests<3,>=2.21.0->tensorboard<2.13,>=2.12->tensorflow) (1.26.15)\n",
            "Requirement already satisfied: certifi>=2017.4.17 in /usr/local/lib/python3.10/dist-packages (from requests<3,>=2.21.0->tensorboard<2.13,>=2.12->tensorflow) (2022.12.7)\n",
            "Requirement already satisfied: charset-normalizer~=2.0.0 in /usr/local/lib/python3.10/dist-packages (from requests<3,>=2.21.0->tensorboard<2.13,>=2.12->tensorflow) (2.0.12)\n",
            "Requirement already satisfied: idna<4,>=2.5 in /usr/local/lib/python3.10/dist-packages (from requests<3,>=2.21.0->tensorboard<2.13,>=2.12->tensorflow) (3.4)\n",
            "Requirement already satisfied: MarkupSafe>=2.1.1 in /usr/local/lib/python3.10/dist-packages (from werkzeug>=1.0.1->tensorboard<2.13,>=2.12->tensorflow) (2.1.2)\n",
            "Requirement already satisfied: pyasn1<0.6.0,>=0.4.6 in /usr/local/lib/python3.10/dist-packages (from pyasn1-modules>=0.2.1->google-auth<3,>=1.6.3->tensorboard<2.13,>=2.12->tensorflow) (0.5.0)\n",
            "Requirement already satisfied: oauthlib>=3.0.0 in /usr/local/lib/python3.10/dist-packages (from requests-oauthlib>=0.7.0->google-auth-oauthlib<1.1,>=0.5->tensorboard<2.13,>=2.12->tensorflow) (3.2.2)\n"
          ]
        }
      ]
    },
    {
      "cell_type": "code",
      "source": [
        "pip install tensorflow-addons"
      ],
      "metadata": {
        "colab": {
          "base_uri": "https://localhost:8080/"
        },
        "id": "dbHjVRWvyd_8",
        "outputId": "8764b40a-0ae2-45da-e870-b3f069909a55"
      },
      "execution_count": 2,
      "outputs": [
        {
          "output_type": "stream",
          "name": "stdout",
          "text": [
            "Looking in indexes: https://pypi.org/simple, https://us-python.pkg.dev/colab-wheels/public/simple/\n",
            "Collecting tensorflow-addons\n",
            "  Downloading tensorflow_addons-0.20.0-cp310-cp310-manylinux_2_17_x86_64.manylinux2014_x86_64.whl (591 kB)\n",
            "\u001b[2K     \u001b[90m━━━━━━━━━━━━━━━━━━━━━━━━━━━━━━━━━━━━━━\u001b[0m \u001b[32m591.0/591.0 kB\u001b[0m \u001b[31m16.0 MB/s\u001b[0m eta \u001b[36m0:00:00\u001b[0m\n",
            "\u001b[?25hRequirement already satisfied: packaging in /usr/local/lib/python3.10/dist-packages (from tensorflow-addons) (23.1)\n",
            "Collecting typeguard<3.0.0,>=2.7 (from tensorflow-addons)\n",
            "  Downloading typeguard-2.13.3-py3-none-any.whl (17 kB)\n",
            "Installing collected packages: typeguard, tensorflow-addons\n",
            "Successfully installed tensorflow-addons-0.20.0 typeguard-2.13.3\n"
          ]
        }
      ]
    },
    {
      "cell_type": "code",
      "source": [
        "pip install keras-preprocessing"
      ],
      "metadata": {
        "colab": {
          "base_uri": "https://localhost:8080/"
        },
        "id": "uVwwmcjWz_5Z",
        "outputId": "9df557b7-a66a-4962-c562-8afda943e3f9"
      },
      "execution_count": 3,
      "outputs": [
        {
          "output_type": "stream",
          "name": "stdout",
          "text": [
            "Looking in indexes: https://pypi.org/simple, https://us-python.pkg.dev/colab-wheels/public/simple/\n",
            "Collecting keras-preprocessing\n",
            "  Downloading Keras_Preprocessing-1.1.2-py2.py3-none-any.whl (42 kB)\n",
            "\u001b[2K     \u001b[90m━━━━━━━━━━━━━━━━━━━━━━━━━━━━━━━━━━━━━━━━\u001b[0m \u001b[32m42.6/42.6 kB\u001b[0m \u001b[31m3.9 MB/s\u001b[0m eta \u001b[36m0:00:00\u001b[0m\n",
            "\u001b[?25hRequirement already satisfied: numpy>=1.9.1 in /usr/local/lib/python3.10/dist-packages (from keras-preprocessing) (1.22.4)\n",
            "Requirement already satisfied: six>=1.9.0 in /usr/local/lib/python3.10/dist-packages (from keras-preprocessing) (1.16.0)\n",
            "Installing collected packages: keras-preprocessing\n",
            "Successfully installed keras-preprocessing-1.1.2\n"
          ]
        }
      ]
    },
    {
      "cell_type": "code",
      "source": [
        "import numpy as np\n",
        "import pandas as pd\n",
        "import os\n",
        "import matplotlib.pyplot as plt\n",
        "import tensorflow as tf\n",
        "\n",
        "from tensorflow.keras.utils import to_categorical\n",
        "from tensorflow.keras.preprocessing.image import load_img, img_to_array\n",
        "\n",
        "from sklearn.metrics import classification_report, log_loss, accuracy_score\n",
        "from sklearn.model_selection import train_test_split"
      ],
      "metadata": {
        "id": "LNsWtOLJ1K3o"
      },
      "execution_count": 4,
      "outputs": []
    },
    {
      "cell_type": "code",
      "source": [
        "from google.colab import drive\n",
        "import os\n",
        "\n",
        "drive.mount(\"/content/drive/\")"
      ],
      "metadata": {
        "colab": {
          "base_uri": "https://localhost:8080/"
        },
        "id": "kERdsfCsvcH7",
        "outputId": "c17369d8-4794-4d18-dfed-baa296f8a24e"
      },
      "execution_count": 5,
      "outputs": [
        {
          "output_type": "stream",
          "name": "stdout",
          "text": [
            "Mounted at /content/drive/\n"
          ]
        }
      ]
    },
    {
      "cell_type": "code",
      "source": [
        "base_dir=\"/content/drive/MyDrive/rice\"\n",
        "!ls\"/content/drive/MyDrive/rice\""
      ],
      "metadata": {
        "colab": {
          "base_uri": "https://localhost:8080/"
        },
        "id": "DGadPX1cvxIj",
        "outputId": "9daa5fd3-2bf1-4849-cdc1-430079a448c1"
      },
      "execution_count": 6,
      "outputs": [
        {
          "output_type": "stream",
          "name": "stdout",
          "text": [
            "/bin/bash: ls/content/drive/MyDrive/rice: No such file or directory\n"
          ]
        }
      ]
    },
    {
      "cell_type": "code",
      "source": [
        "directory =os.path.join(base_dir,\"train/\")"
      ],
      "metadata": {
        "id": "a-0t79BDVwVh"
      },
      "execution_count": 7,
      "outputs": []
    },
    {
      "cell_type": "code",
      "source": [
        "Name=[]\n",
        "for file in os.listdir(directory):\n",
        "    Name+=[file]\n",
        "print(Name)\n",
        "print(len(Name))"
      ],
      "metadata": {
        "colab": {
          "base_uri": "https://localhost:8080/"
        },
        "id": "h7D0ZtM21ZWM",
        "outputId": "e0bc9408-36d8-4feb-e678-ec356a81e487"
      },
      "execution_count": 8,
      "outputs": [
        {
          "output_type": "stream",
          "name": "stdout",
          "text": [
            "['leaf_blast', 'narrow_brown_spot', 'leaf_scald', 'bacterial_leaf_blight', 'brown_spot', 'healthy']\n",
            "6\n"
          ]
        }
      ]
    },
    {
      "cell_type": "code",
      "source": [
        "N=[]\n",
        "for i in range(len(Name)):\n",
        "    N+=[i]\n",
        "    \n",
        "normal_mapping=dict(zip(Name,N)) \n",
        "reverse_mapping=dict(zip(N,Name)) \n",
        "\n",
        "def mapper(value):\n",
        "    return reverse_mapping[value]"
      ],
      "metadata": {
        "id": "tEron7Ik1fRG"
      },
      "execution_count": 9,
      "outputs": []
    },
    {
      "cell_type": "code",
      "source": [
        "dataset=[]\n",
        "testset=[]\n",
        "count=0\n",
        "for name in Name:\n",
        "    path=os.path.join(directory,name)\n",
        "    t=0\n",
        "    for im in os.listdir(path):\n",
        "        if im[-4:]=='.jpg':\n",
        "            image=load_img(os.path.join(path,im), grayscale=False, color_mode='rgb', target_size=(224,224))\n",
        "            image=img_to_array(image)\n",
        "            image=image/255.0\n",
        "            if t<60:\n",
        "                dataset.append([image,count])\n",
        "            else:   \n",
        "                testset.append([image,count])\n",
        "            t+=1\n",
        "    count=count+1"
      ],
      "metadata": {
        "id": "kEIBn2uV1jrd"
      },
      "execution_count": 10,
      "outputs": []
    },
    {
      "cell_type": "code",
      "source": [
        "data,labels0=zip(*dataset)\n",
        "test,tlabels0=zip(*testset)"
      ],
      "metadata": {
        "id": "P4iuit2yT9ip"
      },
      "execution_count": 11,
      "outputs": []
    },
    {
      "cell_type": "code",
      "source": [
        "labels1=to_categorical(labels0)\n",
        "data=np.array(data)\n",
        "labels=np.array(labels1)"
      ],
      "metadata": {
        "id": "SjccCyH5UHDE"
      },
      "execution_count": 12,
      "outputs": []
    },
    {
      "cell_type": "code",
      "source": [
        "tlabels1=to_categorical(tlabels0)\n",
        "test=np.array(test)\n",
        "tlabels=np.array(tlabels1)"
      ],
      "metadata": {
        "id": "qMi5FZYJUbXq"
      },
      "execution_count": 13,
      "outputs": []
    },
    {
      "cell_type": "code",
      "source": [
        "print(len(labels))\n",
        "print(len(tlabels))"
      ],
      "metadata": {
        "colab": {
          "base_uri": "https://localhost:8080/"
        },
        "id": "CG80_P7H15Rw",
        "outputId": "c7ebab92-43fd-4067-caa3-7c9fbc822b3d"
      },
      "execution_count": 14,
      "outputs": [
        {
          "output_type": "stream",
          "name": "stdout",
          "text": [
            "359\n",
            "1424\n"
          ]
        }
      ]
    },
    {
      "cell_type": "code",
      "source": [
        "trainx,testx,trainy,testy=train_test_split(data,labels,test_size=0.2,random_state=44)"
      ],
      "metadata": {
        "id": "qXUpXxMj17nN"
      },
      "execution_count": 15,
      "outputs": []
    },
    {
      "cell_type": "code",
      "source": [
        "print(trainx.shape)\n",
        "print(testx.shape)\n",
        "print(trainy.shape)\n",
        "print(testy.shape)"
      ],
      "metadata": {
        "colab": {
          "base_uri": "https://localhost:8080/"
        },
        "id": "rH13QeDg19uY",
        "outputId": "0980643a-e6e1-441a-c569-f83b9613c513"
      },
      "execution_count": 16,
      "outputs": [
        {
          "output_type": "stream",
          "name": "stdout",
          "text": [
            "(287, 224, 224, 3)\n",
            "(72, 224, 224, 3)\n",
            "(287, 6)\n",
            "(72, 6)\n"
          ]
        }
      ]
    },
    {
      "cell_type": "code",
      "source": [
        "datagen = tf.keras.preprocessing.image.ImageDataGenerator(\n",
        "    rotation_range=30,\n",
        "    width_shift_range=0.2,\n",
        "    height_shift_range=0.2,\n",
        "    shear_range=0.2,\n",
        "    zoom_range=0.2,\n",
        "    horizontal_flip=True,\n",
        "    vertical_flip=True,\n",
        "    fill_mode=\"nearest\")"
      ],
      "metadata": {
        "id": "epmeRfwO2AJi"
      },
      "execution_count": 17,
      "outputs": []
    },
    {
      "cell_type": "code",
      "source": [
        "# Load the pre-trained model without the top (classification) layers\n",
        "pretrained_model = tf.keras.applications.DenseNet201(weights='imagenet', input_shape=(224,224,3),include_top=False,pooling='avg')\n",
        "\n",
        "# Freeze the pre-trained layers so they are not updated during training\n",
        "for layer in pretrained_model.layers:\n",
        "  layer.trainable = False"
      ],
      "metadata": {
        "id": "QctlVqTa2UzT",
        "colab": {
          "base_uri": "https://localhost:8080/"
        },
        "outputId": "9b66236a-4714-4dbe-f3e0-2d90475d6787"
      },
      "execution_count": 18,
      "outputs": [
        {
          "output_type": "stream",
          "name": "stdout",
          "text": [
            "Downloading data from https://storage.googleapis.com/tensorflow/keras-applications/densenet/densenet201_weights_tf_dim_ordering_tf_kernels_notop.h5\n",
            "74836368/74836368 [==============================] - 0s 0us/step\n"
          ]
        }
      ]
    },
    {
      "cell_type": "code",
      "source": [
        "from tensorflow.keras import layers\n",
        "from keras.layers import Flatten\n",
        "from keras.layers import BatchNormalization\n",
        "\n",
        "inputs = pretrained_model.input\n",
        "x = Flatten()(pretrained_model.output)\n",
        "x = tf.keras.layers.Dense(1024, activation='relu')(x)\n",
        "x = layers.Dropout(0.2)(x)  # Dropout layer dengan dropout rate 0.2\n",
        "outputs = tf.keras.layers.Dense(6, activation='softmax')(x)\n",
        "model = tf.keras.Model(inputs=inputs, outputs=outputs)"
      ],
      "metadata": {
        "id": "Vi0mv4Di2hiP"
      },
      "execution_count": 19,
      "outputs": []
    },
    {
      "cell_type": "code",
      "source": [
        "from tensorflow.keras.optimizers import Adam\n",
        "\n",
        "model.compile(optimizer=Adam(learning_rate=0.0001),loss='categorical_crossentropy',metrics=['accuracy'])"
      ],
      "metadata": {
        "id": "uKgowujr2kO3"
      },
      "execution_count": 20,
      "outputs": []
    },
    {
      "cell_type": "code",
      "source": [
        "his=model.fit(datagen.flow(trainx,trainy,batch_size=32),validation_data=(testx,testy),epochs=50)"
      ],
      "metadata": {
        "colab": {
          "base_uri": "https://localhost:8080/"
        },
        "id": "uf9UjWa-2msl",
        "outputId": "80933c83-5d4d-4d79-ae24-29d2b21e4238"
      },
      "execution_count": 21,
      "outputs": [
        {
          "output_type": "stream",
          "name": "stdout",
          "text": [
            "Epoch 1/50\n",
            "9/9 [==============================] - 35s 2s/step - loss: 1.7340 - accuracy: 0.2369 - val_loss: 1.3742 - val_accuracy: 0.5556\n",
            "Epoch 2/50\n",
            "9/9 [==============================] - 4s 436ms/step - loss: 1.3264 - accuracy: 0.5749 - val_loss: 1.0338 - val_accuracy: 0.6944\n",
            "Epoch 3/50\n",
            "9/9 [==============================] - 5s 589ms/step - loss: 0.9937 - accuracy: 0.6829 - val_loss: 0.8058 - val_accuracy: 0.8333\n",
            "Epoch 4/50\n",
            "9/9 [==============================] - 4s 436ms/step - loss: 0.8375 - accuracy: 0.7456 - val_loss: 0.6586 - val_accuracy: 0.8611\n",
            "Epoch 5/50\n",
            "9/9 [==============================] - 4s 431ms/step - loss: 0.7612 - accuracy: 0.7596 - val_loss: 0.5878 - val_accuracy: 0.8472\n",
            "Epoch 6/50\n",
            "9/9 [==============================] - 5s 523ms/step - loss: 0.6400 - accuracy: 0.7944 - val_loss: 0.5036 - val_accuracy: 0.9028\n",
            "Epoch 7/50\n",
            "9/9 [==============================] - 4s 438ms/step - loss: 0.5976 - accuracy: 0.8397 - val_loss: 0.4707 - val_accuracy: 0.9306\n",
            "Epoch 8/50\n",
            "9/9 [==============================] - 4s 433ms/step - loss: 0.5012 - accuracy: 0.8955 - val_loss: 0.4306 - val_accuracy: 0.9306\n",
            "Epoch 9/50\n",
            "9/9 [==============================] - 5s 523ms/step - loss: 0.5059 - accuracy: 0.8397 - val_loss: 0.3928 - val_accuracy: 0.9167\n",
            "Epoch 10/50\n",
            "9/9 [==============================] - 4s 391ms/step - loss: 0.4817 - accuracy: 0.8502 - val_loss: 0.4074 - val_accuracy: 0.9028\n",
            "Epoch 11/50\n",
            "9/9 [==============================] - 4s 391ms/step - loss: 0.4213 - accuracy: 0.9059 - val_loss: 0.3562 - val_accuracy: 0.9444\n",
            "Epoch 12/50\n",
            "9/9 [==============================] - 4s 464ms/step - loss: 0.4218 - accuracy: 0.8850 - val_loss: 0.3447 - val_accuracy: 0.9306\n",
            "Epoch 13/50\n",
            "9/9 [==============================] - 4s 461ms/step - loss: 0.3898 - accuracy: 0.8850 - val_loss: 0.3281 - val_accuracy: 0.9028\n",
            "Epoch 14/50\n",
            "9/9 [==============================] - 4s 428ms/step - loss: 0.3811 - accuracy: 0.8920 - val_loss: 0.3043 - val_accuracy: 0.9167\n",
            "Epoch 15/50\n",
            "9/9 [==============================] - 4s 391ms/step - loss: 0.3473 - accuracy: 0.9059 - val_loss: 0.2923 - val_accuracy: 0.9306\n",
            "Epoch 16/50\n",
            "9/9 [==============================] - 5s 551ms/step - loss: 0.3396 - accuracy: 0.9059 - val_loss: 0.2951 - val_accuracy: 0.9444\n",
            "Epoch 17/50\n",
            "9/9 [==============================] - 4s 393ms/step - loss: 0.3106 - accuracy: 0.9129 - val_loss: 0.2705 - val_accuracy: 0.9722\n",
            "Epoch 18/50\n",
            "9/9 [==============================] - 4s 430ms/step - loss: 0.3203 - accuracy: 0.8955 - val_loss: 0.2779 - val_accuracy: 0.9444\n",
            "Epoch 19/50\n",
            "9/9 [==============================] - 5s 541ms/step - loss: 0.2928 - accuracy: 0.9338 - val_loss: 0.2591 - val_accuracy: 0.9722\n",
            "Epoch 20/50\n",
            "9/9 [==============================] - 4s 437ms/step - loss: 0.2889 - accuracy: 0.9164 - val_loss: 0.2552 - val_accuracy: 0.9722\n",
            "Epoch 21/50\n",
            "9/9 [==============================] - 4s 402ms/step - loss: 0.2541 - accuracy: 0.9547 - val_loss: 0.2501 - val_accuracy: 0.9583\n",
            "Epoch 22/50\n",
            "9/9 [==============================] - 4s 476ms/step - loss: 0.2939 - accuracy: 0.9233 - val_loss: 0.2455 - val_accuracy: 0.9444\n",
            "Epoch 23/50\n",
            "9/9 [==============================] - 4s 439ms/step - loss: 0.2372 - accuracy: 0.9617 - val_loss: 0.2354 - val_accuracy: 0.9722\n",
            "Epoch 24/50\n",
            "9/9 [==============================] - 4s 396ms/step - loss: 0.2330 - accuracy: 0.9477 - val_loss: 0.2323 - val_accuracy: 0.9722\n",
            "Epoch 25/50\n",
            "9/9 [==============================] - 4s 472ms/step - loss: 0.2392 - accuracy: 0.9547 - val_loss: 0.2208 - val_accuracy: 0.9583\n",
            "Epoch 26/50\n",
            "9/9 [==============================] - 4s 432ms/step - loss: 0.2324 - accuracy: 0.9408 - val_loss: 0.2174 - val_accuracy: 0.9583\n",
            "Epoch 27/50\n",
            "9/9 [==============================] - 4s 430ms/step - loss: 0.2429 - accuracy: 0.9338 - val_loss: 0.2091 - val_accuracy: 0.9722\n",
            "Epoch 28/50\n",
            "9/9 [==============================] - 4s 481ms/step - loss: 0.2477 - accuracy: 0.9373 - val_loss: 0.2294 - val_accuracy: 0.9444\n",
            "Epoch 29/50\n",
            "9/9 [==============================] - 4s 441ms/step - loss: 0.1874 - accuracy: 0.9582 - val_loss: 0.1926 - val_accuracy: 0.9583\n",
            "Epoch 30/50\n",
            "9/9 [==============================] - 4s 431ms/step - loss: 0.2343 - accuracy: 0.9164 - val_loss: 0.2106 - val_accuracy: 0.9583\n",
            "Epoch 31/50\n",
            "9/9 [==============================] - 4s 431ms/step - loss: 0.1955 - accuracy: 0.9617 - val_loss: 0.2198 - val_accuracy: 0.9583\n",
            "Epoch 32/50\n",
            "9/9 [==============================] - 5s 501ms/step - loss: 0.2048 - accuracy: 0.9268 - val_loss: 0.2062 - val_accuracy: 0.9722\n",
            "Epoch 33/50\n",
            "9/9 [==============================] - 4s 433ms/step - loss: 0.1814 - accuracy: 0.9408 - val_loss: 0.2021 - val_accuracy: 0.9583\n",
            "Epoch 34/50\n",
            "9/9 [==============================] - 4s 429ms/step - loss: 0.1786 - accuracy: 0.9512 - val_loss: 0.2013 - val_accuracy: 0.9583\n",
            "Epoch 35/50\n",
            "9/9 [==============================] - 5s 594ms/step - loss: 0.1725 - accuracy: 0.9512 - val_loss: 0.2148 - val_accuracy: 0.9583\n",
            "Epoch 36/50\n",
            "9/9 [==============================] - 4s 431ms/step - loss: 0.1695 - accuracy: 0.9582 - val_loss: 0.2043 - val_accuracy: 0.9583\n",
            "Epoch 37/50\n",
            "9/9 [==============================] - 4s 402ms/step - loss: 0.1472 - accuracy: 0.9756 - val_loss: 0.1984 - val_accuracy: 0.9722\n",
            "Epoch 38/50\n",
            "9/9 [==============================] - 5s 533ms/step - loss: 0.1574 - accuracy: 0.9652 - val_loss: 0.2070 - val_accuracy: 0.9583\n",
            "Epoch 39/50\n",
            "9/9 [==============================] - 4s 399ms/step - loss: 0.1787 - accuracy: 0.9512 - val_loss: 0.1881 - val_accuracy: 0.9722\n",
            "Epoch 40/50\n",
            "9/9 [==============================] - 4s 405ms/step - loss: 0.1457 - accuracy: 0.9756 - val_loss: 0.1829 - val_accuracy: 0.9722\n",
            "Epoch 41/50\n",
            "9/9 [==============================] - 4s 455ms/step - loss: 0.1455 - accuracy: 0.9756 - val_loss: 0.1884 - val_accuracy: 0.9722\n",
            "Epoch 42/50\n",
            "9/9 [==============================] - 4s 466ms/step - loss: 0.1608 - accuracy: 0.9582 - val_loss: 0.1921 - val_accuracy: 0.9722\n",
            "Epoch 43/50\n",
            "9/9 [==============================] - 4s 427ms/step - loss: 0.1556 - accuracy: 0.9582 - val_loss: 0.1905 - val_accuracy: 0.9722\n",
            "Epoch 44/50\n",
            "9/9 [==============================] - 4s 399ms/step - loss: 0.1543 - accuracy: 0.9721 - val_loss: 0.2003 - val_accuracy: 0.9722\n",
            "Epoch 45/50\n",
            "9/9 [==============================] - 6s 634ms/step - loss: 0.1532 - accuracy: 0.9652 - val_loss: 0.1907 - val_accuracy: 0.9583\n",
            "Epoch 46/50\n",
            "9/9 [==============================] - 4s 386ms/step - loss: 0.1638 - accuracy: 0.9477 - val_loss: 0.2031 - val_accuracy: 0.9583\n",
            "Epoch 47/50\n",
            "9/9 [==============================] - 4s 390ms/step - loss: 0.1400 - accuracy: 0.9652 - val_loss: 0.1734 - val_accuracy: 0.9722\n",
            "Epoch 48/50\n",
            "9/9 [==============================] - 5s 593ms/step - loss: 0.1440 - accuracy: 0.9617 - val_loss: 0.1672 - val_accuracy: 0.9722\n",
            "Epoch 49/50\n",
            "9/9 [==============================] - 4s 392ms/step - loss: 0.1360 - accuracy: 0.9756 - val_loss: 0.1874 - val_accuracy: 0.9583\n",
            "Epoch 50/50\n",
            "9/9 [==============================] - 4s 399ms/step - loss: 0.1230 - accuracy: 0.9791 - val_loss: 0.1644 - val_accuracy: 0.9583\n"
          ]
        }
      ]
    },
    {
      "cell_type": "code",
      "source": [
        "y_pred=model.predict(testx)\n",
        "pred=np.argmax(y_pred,axis=1)\n",
        "ground = np.argmax(testy,axis=1)\n",
        "print(classification_report(ground,pred))"
      ],
      "metadata": {
        "id": "cdHJscND5gJ5",
        "colab": {
          "base_uri": "https://localhost:8080/"
        },
        "outputId": "34dd0f99-7641-4674-b6d4-105a4da0affb"
      },
      "execution_count": 22,
      "outputs": [
        {
          "output_type": "stream",
          "name": "stdout",
          "text": [
            "3/3 [==============================] - 4s 170ms/step\n",
            "              precision    recall  f1-score   support\n",
            "\n",
            "           0       0.92      1.00      0.96        11\n",
            "           1       1.00      0.91      0.95        11\n",
            "           2       1.00      1.00      1.00        12\n",
            "           3       0.93      1.00      0.97        14\n",
            "           4       0.92      1.00      0.96        12\n",
            "           5       1.00      0.83      0.91        12\n",
            "\n",
            "    accuracy                           0.96        72\n",
            "   macro avg       0.96      0.96      0.96        72\n",
            "weighted avg       0.96      0.96      0.96        72\n",
            "\n"
          ]
        }
      ]
    },
    {
      "cell_type": "code",
      "source": [
        "get_acc = his.history['accuracy']\n",
        "value_acc = his.history['val_accuracy']\n",
        "get_loss = his.history['loss']\n",
        "validation_loss = his.history['val_loss']\n",
        "\n",
        "epochs = range(len(get_acc))\n",
        "plt.plot(epochs, get_acc, 'r', label='Accuracy of Training data')\n",
        "plt.plot(epochs, value_acc, 'b', label='Accuracy of Validation data')\n",
        "plt.title('Training vs validation accuracy')\n",
        "plt.legend(loc=0)\n",
        "plt.figure()\n",
        "plt.show()"
      ],
      "metadata": {
        "id": "9ZsiLopX5qcc",
        "colab": {
          "base_uri": "https://localhost:8080/",
          "height": 469
        },
        "outputId": "9c5c0925-82f2-4cbc-c522-68c2634baa4c"
      },
      "execution_count": 23,
      "outputs": [
        {
          "output_type": "display_data",
          "data": {
            "text/plain": [
              "<Figure size 640x480 with 1 Axes>"
            ],
            "image/png": "[encoded data removed]"
          },
          "metadata": {}
        },
        {
          "output_type": "display_data",
          "data": {
            "text/plain": [
              "<Figure size 640x480 with 0 Axes>"
            ]
          },
          "metadata": {}
        }
      ]
    },
    {
      "cell_type": "code",
      "source": [
        "epochs = range(len(get_loss))\n",
        "plt.plot(epochs, get_loss, 'r', label='Loss of Training data')\n",
        "plt.plot(epochs, validation_loss, 'b', label='Loss of Validation data')\n",
        "plt.title('Training vs validation loss')\n",
        "plt.legend(loc=0)\n",
        "plt.figure()\n",
        "plt.show()"
      ],
      "metadata": {
        "id": "p-hVjBz45v4k",
        "colab": {
          "base_uri": "https://localhost:8080/",
          "height": 469
        },
        "outputId": "35d1191e-e487-4596-e3ce-4b269a487989"
      },
      "execution_count": 24,
      "outputs": [
        {
          "output_type": "display_data",
          "data": {
            "text/plain": [
              "<Figure size 640x480 with 1 Axes>"
            ],
            "image/png": "[encoded data removed]"
          },
          "metadata": {}
        },
        {
          "output_type": "display_data",
          "data": {
            "text/plain": [
              "<Figure size 640x480 with 0 Axes>"
            ]
          },
          "metadata": {}
        }
      ]
    },
    {
      "cell_type": "code",
      "execution_count": 61,
      "metadata": {
        "id": "DoWp43WxJDNT",
        "colab": {
          "base_uri": "https://localhost:8080/",
          "height": 437
        },
        "outputId": "2812b612-312b-4ee8-f2b0-cd59de87d698"
      },
      "outputs": [
        {
          "output_type": "display_data",
          "data": {
            "text/plain": [
              "<IPython.core.display.HTML object>"
            ],
            "text/html": [
              "\n",
              "     <input type=\"file\" id=\"files-98238a32-3be5-4301-92e9-d12e59af61d3\" name=\"files[]\" multiple disabled\n",
              "        style=\"border:none\" />\n",
              "     <output id=\"result-98238a32-3be5-4301-92e9-d12e59af61d3\">\n",
              "      Upload widget is only available when the cell has been executed in the\n",
              "      current browser session. Please rerun this cell to enable.\n",
              "      </output>\n",
              "      <script>// Copyright 2017 Google LLC\n",
              "//\n",
              "// Licensed under the Apache License, Version 2.0 (the \"License\");\n",
              "// you may not use this file except in compliance with the License.\n",
              "// You may obtain a copy of the License at\n",
              "//\n",
              "//      http://www.apache.org/licenses/LICENSE-2.0\n",
              "//\n",
              "// Unless required by applicable law or agreed to in writing, software\n",
              "// distributed under the License is distributed on an \"AS IS\" BASIS,\n",
              "// WITHOUT WARRANTIES OR CONDITIONS OF ANY KIND, either express or implied.\n",
              "// See the License for the specific language governing permissions and\n",
              "// limitations under the License.\n",
              "\n",
              "/**\n",
              " * @fileoverview Helpers for google.colab Python module.\n",
              " */\n",
              "(function(scope) {\n",
              "function span(text, styleAttributes = {}) {\n",
              "  const element = document.createElement('span');\n",
              "  element.textContent = text;\n",
              "  for (const key of Object.keys(styleAttributes)) {\n",
              "    element.style[key] = styleAttributes[key];\n",
              "  }\n",
              "  return element;\n",
              "}\n",
              "\n",
              "// Max number of bytes which will be uploaded at a time.\n",
              "const MAX_PAYLOAD_SIZE = 100 * 1024;\n",
              "\n",
              "function _uploadFiles(inputId, outputId) {\n",
              "  const steps = uploadFilesStep(inputId, outputId);\n",
              "  const outputElement = document.getElementById(outputId);\n",
              "  // Cache steps on the outputElement to make it available for the next call\n",
              "  // to uploadFilesContinue from Python.\n",
              "  outputElement.steps = steps;\n",
              "\n",
              "  return _uploadFilesContinue(outputId);\n",
              "}\n",
              "\n",
              "// This is roughly an async generator (not supported in the browser yet),\n",
              "// where there are multiple asynchronous steps and the Python side is going\n",
              "// to poll for completion of each step.\n",
              "// This uses a Promise to block the python side on completion of each step,\n",
              "// then passes the result of the previous step as the input to the next step.\n",
              "function _uploadFilesContinue(outputId) {\n",
              "  const outputElement = document.getElementById(outputId);\n",
              "  const steps = outputElement.steps;\n",
              "\n",
              "  const next = steps.next(outputElement.lastPromiseValue);\n",
              "  return Promise.resolve(next.value.promise).then((value) => {\n",
              "    // Cache the last promise value to make it available to the next\n",
              "    // step of the generator.\n",
              "    outputElement.lastPromiseValue = value;\n",
              "    return next.value.response;\n",
              "  });\n",
              "}\n",
              "\n",
              "/**\n",
              " * Generator function which is called between each async step of the upload\n",
              " * process.\n",
              " * @param {string} inputId Element ID of the input file picker element.\n",
              " * @param {string} outputId Element ID of the output display.\n",
              " * @return {!Iterable<!Object>} Iterable of next steps.\n",
              " */\n",
              "function* uploadFilesStep(inputId, outputId) {\n",
              "  const inputElement = document.getElementById(inputId);\n",
              "  inputElement.disabled = false;\n",
              "\n",
              "  const outputElement = document.getElementById(outputId);\n",
              "  outputElement.innerHTML = '';\n",
              "\n",
              "  const pickedPromise = new Promise((resolve) => {\n",
              "    inputElement.addEventListener('change', (e) => {\n",
              "      resolve(e.target.files);\n",
              "    });\n",
              "  });\n",
              "\n",
              "  const cancel = document.createElement('button');\n",
              "  inputElement.parentElement.appendChild(cancel);\n",
              "  cancel.textContent = 'Cancel upload';\n",
              "  const cancelPromise = new Promise((resolve) => {\n",
              "    cancel.onclick = () => {\n",
              "      resolve(null);\n",
              "    };\n",
              "  });\n",
              "\n",
              "  // Wait for the user to pick the files.\n",
              "  const files = yield {\n",
              "    promise: Promise.race([pickedPromise, cancelPromise]),\n",
              "    response: {\n",
              "      action: 'starting',\n",
              "    }\n",
              "  };\n",
              "\n",
              "  cancel.remove();\n",
              "\n",
              "  // Disable the input element since further picks are not allowed.\n",
              "  inputElement.disabled = true;\n",
              "\n",
              "  if (!files) {\n",
              "    return {\n",
              "      response: {\n",
              "        action: 'complete',\n",
              "      }\n",
              "    };\n",
              "  }\n",
              "\n",
              "  for (const file of files) {\n",
              "    const li = document.createElement('li');\n",
              "    li.append(span(file.name, {fontWeight: 'bold'}));\n",
              "    li.append(span(\n",
              "        `(${file.type || 'n/a'}) - ${file.size} bytes, ` +\n",
              "        `last modified: ${\n",
              "            file.lastModifiedDate ? file.lastModifiedDate.toLocaleDateString() :\n",
              "                                    'n/a'} - `));\n",
              "    const percent = span('0% done');\n",
              "    li.appendChild(percent);\n",
              "\n",
              "    outputElement.appendChild(li);\n",
              "\n",
              "    const fileDataPromise = new Promise((resolve) => {\n",
              "      const reader = new FileReader();\n",
              "      reader.onload = (e) => {\n",
              "        resolve(e.target.result);\n",
              "      };\n",
              "      reader.readAsArrayBuffer(file);\n",
              "    });\n",
              "    // Wait for the data to be ready.\n",
              "    let fileData = yield {\n",
              "      promise: fileDataPromise,\n",
              "      response: {\n",
              "        action: 'continue',\n",
              "      }\n",
              "    };\n",
              "\n",
              "    // Use a chunked sending to avoid message size limits. See b/62115660.\n",
              "    let position = 0;\n",
              "    do {\n",
              "      const length = Math.min(fileData.byteLength - position, MAX_PAYLOAD_SIZE);\n",
              "      const chunk = new Uint8Array(fileData, position, length);\n",
              "      position += length;\n",
              "\n",
              "      const base64 = btoa(String.fromCharCode.apply(null, chunk));\n",
              "      yield {\n",
              "        response: {\n",
              "          action: 'append',\n",
              "          file: file.name,\n",
              "          data: base64,\n",
              "        },\n",
              "      };\n",
              "\n",
              "      let percentDone = fileData.byteLength === 0 ?\n",
              "          100 :\n",
              "          Math.round((position / fileData.byteLength) * 100);\n",
              "      percent.textContent = `${percentDone}% done`;\n",
              "\n",
              "    } while (position < fileData.byteLength);\n",
              "  }\n",
              "\n",
              "  // All done.\n",
              "  yield {\n",
              "    response: {\n",
              "      action: 'complete',\n",
              "    }\n",
              "  };\n",
              "}\n",
              "\n",
              "scope.google = scope.google || {};\n",
              "scope.google.colab = scope.google.colab || {};\n",
              "scope.google.colab._files = {\n",
              "  _uploadFiles,\n",
              "  _uploadFilesContinue,\n",
              "};\n",
              "})(self);\n",
              "</script> "
            ]
          },
          "metadata": {}
        },
        {
          "output_type": "stream",
          "name": "stdout",
          "text": [
            "Saving download (1).jpg to download (1) (1).jpg\n",
            "Saving download (2).jpg to download (2).jpg\n",
            "Saving download.jpg to download (3).jpg\n",
            "Saving OIP (3).jpg to OIP (3).jpg\n",
            "1/1 [==============================] - 0s 36ms/step\n",
            "[8.2580376e-01 8.0139395e-03 6.8362459e-04 1.7131339e-03 1.6224951e-01\n",
            " 1.5360584e-03]\n",
            "Prediction is leaf_blast.\n",
            "1/1 [==============================] - 0s 37ms/step\n",
            "[0.10496793 0.00281191 0.00108512 0.5661438  0.19956939 0.12542185]\n",
            "Prediction is bacterial_leaf_blight.\n",
            "1/1 [==============================] - 0s 32ms/step\n",
            "[7.9782225e-02 1.1692673e-02 3.6215505e-01 6.5322355e-03 5.3942913e-01\n",
            " 4.0874782e-04]\n",
            "Prediction is brown_spot.\n",
            "1/1 [==============================] - 0s 35ms/step\n",
            "[4.1649047e-02 7.7515637e-04 2.7990268e-04 2.0069764e-03 9.5337421e-01\n",
            " 1.9146574e-03]\n",
            "Prediction is brown_spot.\n"
          ]
        }
      ],
      "source": [
        "## NOTE: If you are using Safari and this cell throws an error,\n",
        "## please skip this block and run the next one instead.\n",
        "\n",
        "import numpy as np\n",
        "\n",
        "from google.colab import files\n",
        "from tensorflow.keras.utils import load_img, img_to_array\n",
        "\n",
        "uploaded=files.upload()\n",
        "\n",
        "for fn in uploaded.keys():\n",
        " \n",
        "  # predicting images\n",
        "  path='/content/' + fn\n",
        "  img=load_img(path, target_size=(224, 224))\n",
        "  \n",
        "  x=img_to_array(img)\n",
        "  x /= 255\n",
        "  x=np.expand_dims(x, axis=0)\n",
        "  images = np.vstack([x])\n",
        "  \n",
        "  classes = model.predict(images, batch_size=10)\n",
        "\n",
        "  print(classes[0])\n",
        "  value=np.argmax(classes)\n",
        "  move_name=mapper(value)\n",
        "  \n",
        "  print(\"Prediction is {}.\".format(move_name))\n",
        " "
      ]
    },
    {
      "cell_type": "code",
      "source": [],
      "metadata": {
        "id": "kavhVemM_qRx"
      },
      "execution_count": 25,
      "outputs": []
    },
    {
      "cell_type": "code",
      "source": [
        "print(test.shape)\n",
        "prediction2=model.predict(test)\n",
        "print(prediction2.shape)\n",
        "\n",
        "PRED=[]\n",
        "for item in prediction2:\n",
        "    value2=np.argmax(item)      \n",
        "    PRED+=[value2]"
      ],
      "metadata": {
        "id": "WkjTePve_suR",
        "colab": {
          "base_uri": "https://localhost:8080/"
        },
        "outputId": "9407e0ef-9a4b-4bd5-9741-5dcd83a3d40d"
      },
      "execution_count": 49,
      "outputs": [
        {
          "output_type": "stream",
          "name": "stdout",
          "text": [
            "(1424, 224, 224, 3)\n",
            "45/45 [==============================] - 6s 146ms/step\n",
            "(1424, 6)\n"
          ]
        }
      ]
    },
    {
      "cell_type": "code",
      "source": [
        "ANS=tlabels0"
      ],
      "metadata": {
        "id": "5a5V-jyB_uRm"
      },
      "execution_count": 50,
      "outputs": []
    },
    {
      "cell_type": "code",
      "source": [
        "accuracy=accuracy_score(ANS,PRED)\n",
        "print(accuracy)"
      ],
      "metadata": {
        "id": "m3L9Y6ll_v6o",
        "colab": {
          "base_uri": "https://localhost:8080/"
        },
        "outputId": "bc327126-a45b-458f-b1b1-cbd51dfc0309"
      },
      "execution_count": 51,
      "outputs": [
        {
          "output_type": "stream",
          "name": "stdout",
          "text": [
            "0.8384831460674157\n"
          ]
        }
      ]
    },
    {
      "cell_type": "code",
      "source": [
        "# Save model weights and architecture\n",
        "model.save_weights('/content/drive/MyDrive/rice/model_weights.h5')\n",
        "model.save('/content/drive/MyDrive/rice/model_saved.h5')"
      ],
      "metadata": {
        "id": "67x-U8xntVLa"
      },
      "execution_count": 52,
      "outputs": []
    },
    {
      "cell_type": "code",
      "source": [
        "from tensorflow.keras.models import load_model\n",
        "\n",
        "# Load model architectur\n",
        "loaded_model = load_model('/content/drive/MyDrive/rice/model_saved.h5')\n",
        "\n",
        "# Load model weights\n",
        "loaded_model.load_weights('/content/drive/MyDrive/rice/model_weights.h5')"
      ],
      "metadata": {
        "id": "8JHxG5uDLr3Q"
      },
      "execution_count": 53,
      "outputs": []
    },
    {
      "cell_type": "code",
      "source": [
        "export = '/content/drive/MyDrive/rice/saved_model'\n",
        "tf.saved_model.save(model, export)"
      ],
      "metadata": {
        "colab": {
          "base_uri": "https://localhost:8080/"
        },
        "id": "eVCewgFSMU9b",
        "outputId": "8c693f89-58e3-443a-d358-35813fd54b81"
      },
      "execution_count": 54,
      "outputs": [
        {
          "output_type": "stream",
          "name": "stderr",
          "text": [
            "WARNING:absl:Found untraced functions such as _jit_compiled_convolution_op, _jit_compiled_convolution_op, _jit_compiled_convolution_op, _jit_compiled_convolution_op, _jit_compiled_convolution_op while saving (showing 5 of 200). These functions will not be directly callable after loading.\n"
          ]
        }
      ]
    },
    {
      "cell_type": "code",
      "source": [
        "# Select mode of optimization\n",
        "mode = \"Storage\" \n",
        "\n",
        "if mode == 'Storage':\n",
        "    optimization = tf.lite.Optimize.OPTIMIZE_FOR_SIZE\n",
        "elif mode == 'Speed':\n",
        "    optimization = tf.lite.Optimize.OPTIMIZE_FOR_LATENCY\n",
        "else:\n",
        "    optimization = tf.lite.Optimize.DEFAULT"
      ],
      "metadata": {
        "id": "KXxxE7XmM6LI"
      },
      "execution_count": 55,
      "outputs": []
    },
    {
      "cell_type": "code",
      "source": [
        "converter = tf.lite.TFLiteConverter.from_saved_model(export)\n",
        "converter.optimizations = [optimization]\n",
        "tflite_model = converter.convert();"
      ],
      "metadata": {
        "colab": {
          "base_uri": "https://localhost:8080/"
        },
        "id": "2XP-CPRqNCEV",
        "outputId": "8f360ff2-9ee6-482f-931c-3052511fef6e"
      },
      "execution_count": 56,
      "outputs": [
        {
          "output_type": "stream",
          "name": "stderr",
          "text": [
            "WARNING:absl:Optimization option OPTIMIZE_FOR_SIZE is deprecated, please use optimizations=[Optimize.DEFAULT] instead.\n",
            "WARNING:absl:Optimization option OPTIMIZE_FOR_SIZE is deprecated, please use optimizations=[Optimize.DEFAULT] instead.\n",
            "WARNING:absl:Optimization option OPTIMIZE_FOR_SIZE is deprecated, please use optimizations=[Optimize.DEFAULT] instead.\n"
          ]
        }
      ]
    },
    {
      "cell_type": "code",
      "source": [
        "import pathlib\n",
        "tflite_model_file = pathlib.Path('./model.tflite')\n",
        "tflite_model_file.write_bytes(tflite_model)"
      ],
      "metadata": {
        "colab": {
          "base_uri": "https://localhost:8080/"
        },
        "id": "BDaWglAgNERw",
        "outputId": "68194f71-2f2b-4c51-8214-5396816fad53"
      },
      "execution_count": 57,
      "outputs": [
        {
          "output_type": "execute_result",
          "data": {
            "text/plain": [
              "21084904"
            ]
          },
          "metadata": {},
          "execution_count": 57
        }
      ]
    },
    {
      "cell_type": "code",
      "source": [],
      "metadata": {
        "id": "5R_6HGpztiUF"
      },
      "execution_count": null,
      "outputs": []
    }
  ]
}