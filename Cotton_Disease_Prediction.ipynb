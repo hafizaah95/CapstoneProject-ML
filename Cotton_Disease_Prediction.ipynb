{
  "nbformat": 4,
  "nbformat_minor": 0,
  "metadata": {
    "colab": {
      "provenance": [],
      "gpuType": "T4",
      "include_colab_link": true
    },
    "kernelspec": {
      "name": "python3",
      "display_name": "Python 3"
    },
    "language_info": {
      "name": "python"
    },
    "accelerator": "GPU"
  },
  "cells": [
    {
      "cell_type": "markdown",
      "metadata": {
        "id": "view-in-github",
        "colab_type": "text"
      },
      "source": [
        "<a href=\"https://colab.research.google.com/github/hafizaah95/CapstoneProject-ML/blob/main/Cotton_Disease_Prediction.ipynb\" target=\"_parent\"><img src=\"https://colab.research.google.com/assets/colab-badge.svg\" alt=\"Open In Colab\"/></a>"
      ]
    },
    {
      "cell_type": "code",
      "source": [
        "pip install --upgrade tensorflow"
      ],
      "metadata": {
        "colab": {
          "base_uri": "https://localhost:8080/"
        },
        "id": "drK3NPTZyRFO",
        "outputId": "5ebee56e-3990-429a-8497-fccba1135816"
      },
      "execution_count": 1,
      "outputs": [
        {
          "output_type": "stream",
          "name": "stdout",
          "text": [
            "Looking in indexes: https://pypi.org/simple, https://us-python.pkg.dev/colab-wheels/public/simple/\n",
            "Requirement already satisfied: tensorflow in /usr/local/lib/python3.10/dist-packages (2.12.0)\n",
            "Requirement already satisfied: absl-py>=1.0.0 in /usr/local/lib/python3.10/dist-packages (from tensorflow) (1.4.0)\n",
            "Requirement already satisfied: astunparse>=1.6.0 in /usr/local/lib/python3.10/dist-packages (from tensorflow) (1.6.3)\n",
            "Requirement already satisfied: flatbuffers>=2.0 in /usr/local/lib/python3.10/dist-packages (from tensorflow) (23.3.3)\n",
            "Requirement already satisfied: gast<=0.4.0,>=0.2.1 in /usr/local/lib/python3.10/dist-packages (from tensorflow) (0.4.0)\n",
            "Requirement already satisfied: google-pasta>=0.1.1 in /usr/local/lib/python3.10/dist-packages (from tensorflow) (0.2.0)\n",
            "Requirement already satisfied: grpcio<2.0,>=1.24.3 in /usr/local/lib/python3.10/dist-packages (from tensorflow) (1.54.0)\n",
            "Requirement already satisfied: h5py>=2.9.0 in /usr/local/lib/python3.10/dist-packages (from tensorflow) (3.8.0)\n",
            "Requirement already satisfied: jax>=0.3.15 in /usr/local/lib/python3.10/dist-packages (from tensorflow) (0.4.10)\n",
            "Requirement already satisfied: keras<2.13,>=2.12.0 in /usr/local/lib/python3.10/dist-packages (from tensorflow) (2.12.0)\n",
            "Requirement already satisfied: libclang>=13.0.0 in /usr/local/lib/python3.10/dist-packages (from tensorflow) (16.0.0)\n",
            "Requirement already satisfied: numpy<1.24,>=1.22 in /usr/local/lib/python3.10/dist-packages (from tensorflow) (1.22.4)\n",
            "Requirement already satisfied: opt-einsum>=2.3.2 in /usr/local/lib/python3.10/dist-packages (from tensorflow) (3.3.0)\n",
            "Requirement already satisfied: packaging in /usr/local/lib/python3.10/dist-packages (from tensorflow) (23.1)\n",
            "Requirement already satisfied: protobuf!=4.21.0,!=4.21.1,!=4.21.2,!=4.21.3,!=4.21.4,!=4.21.5,<5.0.0dev,>=3.20.3 in /usr/local/lib/python3.10/dist-packages (from tensorflow) (3.20.3)\n",
            "Requirement already satisfied: setuptools in /usr/local/lib/python3.10/dist-packages (from tensorflow) (67.7.2)\n",
            "Requirement already satisfied: six>=1.12.0 in /usr/local/lib/python3.10/dist-packages (from tensorflow) (1.16.0)\n",
            "Requirement already satisfied: tensorboard<2.13,>=2.12 in /usr/local/lib/python3.10/dist-packages (from tensorflow) (2.12.2)\n",
            "Requirement already satisfied: tensorflow-estimator<2.13,>=2.12.0 in /usr/local/lib/python3.10/dist-packages (from tensorflow) (2.12.0)\n",
            "Requirement already satisfied: termcolor>=1.1.0 in /usr/local/lib/python3.10/dist-packages (from tensorflow) (2.3.0)\n",
            "Requirement already satisfied: typing-extensions>=3.6.6 in /usr/local/lib/python3.10/dist-packages (from tensorflow) (4.5.0)\n",
            "Requirement already satisfied: wrapt<1.15,>=1.11.0 in /usr/local/lib/python3.10/dist-packages (from tensorflow) (1.14.1)\n",
            "Requirement already satisfied: tensorflow-io-gcs-filesystem>=0.23.1 in /usr/local/lib/python3.10/dist-packages (from tensorflow) (0.32.0)\n",
            "Requirement already satisfied: wheel<1.0,>=0.23.0 in /usr/local/lib/python3.10/dist-packages (from astunparse>=1.6.0->tensorflow) (0.40.0)\n",
            "Requirement already satisfied: ml-dtypes>=0.1.0 in /usr/local/lib/python3.10/dist-packages (from jax>=0.3.15->tensorflow) (0.1.0)\n",
            "Requirement already satisfied: scipy>=1.7 in /usr/local/lib/python3.10/dist-packages (from jax>=0.3.15->tensorflow) (1.10.1)\n",
            "Requirement already satisfied: google-auth<3,>=1.6.3 in /usr/local/lib/python3.10/dist-packages (from tensorboard<2.13,>=2.12->tensorflow) (2.17.3)\n",
            "Requirement already satisfied: google-auth-oauthlib<1.1,>=0.5 in /usr/local/lib/python3.10/dist-packages (from tensorboard<2.13,>=2.12->tensorflow) (1.0.0)\n",
            "Requirement already satisfied: markdown>=2.6.8 in /usr/local/lib/python3.10/dist-packages (from tensorboard<2.13,>=2.12->tensorflow) (3.4.3)\n",
            "Requirement already satisfied: requests<3,>=2.21.0 in /usr/local/lib/python3.10/dist-packages (from tensorboard<2.13,>=2.12->tensorflow) (2.27.1)\n",
            "Requirement already satisfied: tensorboard-data-server<0.8.0,>=0.7.0 in /usr/local/lib/python3.10/dist-packages (from tensorboard<2.13,>=2.12->tensorflow) (0.7.0)\n",
            "Requirement already satisfied: tensorboard-plugin-wit>=1.6.0 in /usr/local/lib/python3.10/dist-packages (from tensorboard<2.13,>=2.12->tensorflow) (1.8.1)\n",
            "Requirement already satisfied: werkzeug>=1.0.1 in /usr/local/lib/python3.10/dist-packages (from tensorboard<2.13,>=2.12->tensorflow) (2.3.0)\n",
            "Requirement already satisfied: cachetools<6.0,>=2.0.0 in /usr/local/lib/python3.10/dist-packages (from google-auth<3,>=1.6.3->tensorboard<2.13,>=2.12->tensorflow) (5.3.0)\n",
            "Requirement already satisfied: pyasn1-modules>=0.2.1 in /usr/local/lib/python3.10/dist-packages (from google-auth<3,>=1.6.3->tensorboard<2.13,>=2.12->tensorflow) (0.3.0)\n",
            "Requirement already satisfied: rsa<5,>=3.1.4 in /usr/local/lib/python3.10/dist-packages (from google-auth<3,>=1.6.3->tensorboard<2.13,>=2.12->tensorflow) (4.9)\n",
            "Requirement already satisfied: requests-oauthlib>=0.7.0 in /usr/local/lib/python3.10/dist-packages (from google-auth-oauthlib<1.1,>=0.5->tensorboard<2.13,>=2.12->tensorflow) (1.3.1)\n",
            "Requirement already satisfied: urllib3<1.27,>=1.21.1 in /usr/local/lib/python3.10/dist-packages (from requests<3,>=2.21.0->tensorboard<2.13,>=2.12->tensorflow) (1.26.15)\n",
            "Requirement already satisfied: certifi>=2017.4.17 in /usr/local/lib/python3.10/dist-packages (from requests<3,>=2.21.0->tensorboard<2.13,>=2.12->tensorflow) (2022.12.7)\n",
            "Requirement already satisfied: charset-normalizer~=2.0.0 in /usr/local/lib/python3.10/dist-packages (from requests<3,>=2.21.0->tensorboard<2.13,>=2.12->tensorflow) (2.0.12)\n",
            "Requirement already satisfied: idna<4,>=2.5 in /usr/local/lib/python3.10/dist-packages (from requests<3,>=2.21.0->tensorboard<2.13,>=2.12->tensorflow) (3.4)\n",
            "Requirement already satisfied: MarkupSafe>=2.1.1 in /usr/local/lib/python3.10/dist-packages (from werkzeug>=1.0.1->tensorboard<2.13,>=2.12->tensorflow) (2.1.2)\n",
            "Requirement already satisfied: pyasn1<0.6.0,>=0.4.6 in /usr/local/lib/python3.10/dist-packages (from pyasn1-modules>=0.2.1->google-auth<3,>=1.6.3->tensorboard<2.13,>=2.12->tensorflow) (0.5.0)\n",
            "Requirement already satisfied: oauthlib>=3.0.0 in /usr/local/lib/python3.10/dist-packages (from requests-oauthlib>=0.7.0->google-auth-oauthlib<1.1,>=0.5->tensorboard<2.13,>=2.12->tensorflow) (3.2.2)\n"
          ]
        }
      ]
    },
    {
      "cell_type": "code",
      "source": [
        "pip install tensorflow-addons"
      ],
      "metadata": {
        "colab": {
          "base_uri": "https://localhost:8080/"
        },
        "id": "dbHjVRWvyd_8",
        "outputId": "575fe8d6-9892-4b2f-c22c-8116a5e7e96d"
      },
      "execution_count": 2,
      "outputs": [
        {
          "output_type": "stream",
          "name": "stdout",
          "text": [
            "Looking in indexes: https://pypi.org/simple, https://us-python.pkg.dev/colab-wheels/public/simple/\n",
            "Collecting tensorflow-addons\n",
            "  Downloading tensorflow_addons-0.20.0-cp310-cp310-manylinux_2_17_x86_64.manylinux2014_x86_64.whl (591 kB)\n",
            "\u001b[2K     \u001b[90m━━━━━━━━━━━━━━━━━━━━━━━━━━━━━━━━━━━━━━\u001b[0m \u001b[32m591.0/591.0 kB\u001b[0m \u001b[31m21.7 MB/s\u001b[0m eta \u001b[36m0:00:00\u001b[0m\n",
            "\u001b[?25hRequirement already satisfied: packaging in /usr/local/lib/python3.10/dist-packages (from tensorflow-addons) (23.1)\n",
            "Collecting typeguard<3.0.0,>=2.7 (from tensorflow-addons)\n",
            "  Downloading typeguard-2.13.3-py3-none-any.whl (17 kB)\n",
            "Installing collected packages: typeguard, tensorflow-addons\n",
            "Successfully installed tensorflow-addons-0.20.0 typeguard-2.13.3\n"
          ]
        }
      ]
    },
    {
      "cell_type": "code",
      "source": [
        "pip install keras-preprocessing"
      ],
      "metadata": {
        "colab": {
          "base_uri": "https://localhost:8080/"
        },
        "id": "uVwwmcjWz_5Z",
        "outputId": "caaf12da-be0e-4499-ca7a-d8bc53cc792f"
      },
      "execution_count": 3,
      "outputs": [
        {
          "output_type": "stream",
          "name": "stdout",
          "text": [
            "Looking in indexes: https://pypi.org/simple, https://us-python.pkg.dev/colab-wheels/public/simple/\n",
            "Collecting keras-preprocessing\n",
            "  Downloading Keras_Preprocessing-1.1.2-py2.py3-none-any.whl (42 kB)\n",
            "\u001b[2K     \u001b[90m━━━━━━━━━━━━━━━━━━━━━━━━━━━━━━━━━━━━━━━━\u001b[0m \u001b[32m42.6/42.6 kB\u001b[0m \u001b[31m3.4 MB/s\u001b[0m eta \u001b[36m0:00:00\u001b[0m\n",
            "\u001b[?25hRequirement already satisfied: numpy>=1.9.1 in /usr/local/lib/python3.10/dist-packages (from keras-preprocessing) (1.22.4)\n",
            "Requirement already satisfied: six>=1.9.0 in /usr/local/lib/python3.10/dist-packages (from keras-preprocessing) (1.16.0)\n",
            "Installing collected packages: keras-preprocessing\n",
            "Successfully installed keras-preprocessing-1.1.2\n"
          ]
        }
      ]
    },
    {
      "cell_type": "code",
      "source": [
        "import numpy as np\n",
        "import pandas as pd\n",
        "import os\n",
        "import matplotlib.pyplot as plt\n",
        "import tensorflow as tf\n",
        "\n",
        "from tensorflow.keras.utils import to_categorical\n",
        "from tensorflow.keras.preprocessing.image import load_img, img_to_array\n",
        "\n",
        "from sklearn.metrics import classification_report, log_loss, accuracy_score\n",
        "from sklearn.model_selection import train_test_split"
      ],
      "metadata": {
        "id": "LNsWtOLJ1K3o"
      },
      "execution_count": 4,
      "outputs": []
    },
    {
      "cell_type": "code",
      "source": [
        "from google.colab import drive\n",
        "import os\n",
        "\n",
        "drive.mount(\"/content/drive/\")"
      ],
      "metadata": {
        "colab": {
          "base_uri": "https://localhost:8080/"
        },
        "id": "kERdsfCsvcH7",
        "outputId": "4999e571-7fbe-4ecf-b8a2-32dd68a8da32"
      },
      "execution_count": 5,
      "outputs": [
        {
          "output_type": "stream",
          "name": "stdout",
          "text": [
            "Mounted at /content/drive/\n"
          ]
        }
      ]
    },
    {
      "cell_type": "code",
      "source": [
        "base_dir=\"/content/drive/MyDrive/cotton\"\n",
        "!ls\"/content/drive/MyDrive/cotton\""
      ],
      "metadata": {
        "colab": {
          "base_uri": "https://localhost:8080/"
        },
        "id": "DGadPX1cvxIj",
        "outputId": "41f328ab-9498-4723-aa72-884e4d684cac"
      },
      "execution_count": 6,
      "outputs": [
        {
          "output_type": "stream",
          "name": "stdout",
          "text": [
            "/bin/bash: ls/content/drive/MyDrive/cotton: No such file or directory\n"
          ]
        }
      ]
    },
    {
      "cell_type": "code",
      "source": [
        "directory =os.path.join(base_dir,\"train/\")"
      ],
      "metadata": {
        "id": "a-0t79BDVwVh"
      },
      "execution_count": 7,
      "outputs": []
    },
    {
      "cell_type": "code",
      "source": [
        "Name=[]\n",
        "for file in os.listdir(directory):\n",
        "    Name+=[file]\n",
        "print(Name)\n",
        "print(len(Name))"
      ],
      "metadata": {
        "colab": {
          "base_uri": "https://localhost:8080/"
        },
        "id": "h7D0ZtM21ZWM",
        "outputId": "9d6cd607-f2d9-4be4-b6cd-65130ba74035"
      },
      "execution_count": 8,
      "outputs": [
        {
          "output_type": "stream",
          "name": "stdout",
          "text": [
            "['Target spot', 'Powdery Mildew', 'Healthy', 'Bacterial Blight', 'Aphids', 'Army worm']\n",
            "6\n"
          ]
        }
      ]
    },
    {
      "cell_type": "code",
      "source": [
        "N=[]\n",
        "for i in range(len(Name)):\n",
        "    N+=[i]\n",
        "    \n",
        "normal_mapping=dict(zip(Name,N)) \n",
        "reverse_mapping=dict(zip(N,Name)) \n",
        "\n",
        "def mapper(value):\n",
        "    return reverse_mapping[value]"
      ],
      "metadata": {
        "id": "tEron7Ik1fRG"
      },
      "execution_count": 9,
      "outputs": []
    },
    {
      "cell_type": "code",
      "source": [
        "dataset=[]\n",
        "testset=[]\n",
        "count=0\n",
        "for name in Name:\n",
        "    path=os.path.join(directory,name)\n",
        "    t=0\n",
        "    for im in os.listdir(path):\n",
        "        if im[-4:]=='.jpg':\n",
        "            image=load_img(os.path.join(path,im), grayscale=False, color_mode='rgb', target_size=(224,224))\n",
        "            image=img_to_array(image)\n",
        "            image=image/255.0\n",
        "            if t<60:\n",
        "                dataset.append([image,count])\n",
        "            else:   \n",
        "                testset.append([image,count])\n",
        "            t+=1\n",
        "    count=count+1"
      ],
      "metadata": {
        "id": "kEIBn2uV1jrd"
      },
      "execution_count": 10,
      "outputs": []
    },
    {
      "cell_type": "code",
      "source": [
        "data,labels0=zip(*dataset)\n",
        "test,tlabels0=zip(*testset)"
      ],
      "metadata": {
        "id": "P4iuit2yT9ip"
      },
      "execution_count": 11,
      "outputs": []
    },
    {
      "cell_type": "code",
      "source": [
        "labels1=to_categorical(labels0)\n",
        "data=np.array(data)\n",
        "labels=np.array(labels1)"
      ],
      "metadata": {
        "id": "SjccCyH5UHDE"
      },
      "execution_count": 12,
      "outputs": []
    },
    {
      "cell_type": "code",
      "source": [
        "tlabels1=to_categorical(tlabels0)\n",
        "test=np.array(test)\n",
        "tlabels=np.array(tlabels1)"
      ],
      "metadata": {
        "id": "qMi5FZYJUbXq"
      },
      "execution_count": 13,
      "outputs": []
    },
    {
      "cell_type": "code",
      "source": [
        "print(len(labels))\n",
        "print(len(tlabels))"
      ],
      "metadata": {
        "colab": {
          "base_uri": "https://localhost:8080/"
        },
        "id": "CG80_P7H15Rw",
        "outputId": "ce1f6725-1a11-47aa-8a3b-1326e9d4c124"
      },
      "execution_count": 14,
      "outputs": [
        {
          "output_type": "stream",
          "name": "stdout",
          "text": [
            "360\n",
            "2020\n"
          ]
        }
      ]
    },
    {
      "cell_type": "code",
      "source": [
        "trainx,testx,trainy,testy=train_test_split(data,labels,test_size=0.2,random_state=44)"
      ],
      "metadata": {
        "id": "qXUpXxMj17nN"
      },
      "execution_count": 15,
      "outputs": []
    },
    {
      "cell_type": "code",
      "source": [
        "print(trainx.shape)\n",
        "print(testx.shape)\n",
        "print(trainy.shape)\n",
        "print(testy.shape)"
      ],
      "metadata": {
        "colab": {
          "base_uri": "https://localhost:8080/"
        },
        "id": "rH13QeDg19uY",
        "outputId": "877f4bc0-bbea-49ce-bcf9-507f5a599a8d"
      },
      "execution_count": 16,
      "outputs": [
        {
          "output_type": "stream",
          "name": "stdout",
          "text": [
            "(288, 224, 224, 3)\n",
            "(72, 224, 224, 3)\n",
            "(288, 6)\n",
            "(72, 6)\n"
          ]
        }
      ]
    },
    {
      "cell_type": "code",
      "source": [
        "datagen = tf.keras.preprocessing.image.ImageDataGenerator(\n",
        "    rotation_range=30,\n",
        "    width_shift_range=0.2,\n",
        "    height_shift_range=0.2,\n",
        "    shear_range=0.2,\n",
        "    zoom_range=0.2,\n",
        "    horizontal_flip=True,\n",
        "    vertical_flip=True,\n",
        "    fill_mode=\"nearest\")"
      ],
      "metadata": {
        "id": "epmeRfwO2AJi"
      },
      "execution_count": 17,
      "outputs": []
    },
    {
      "cell_type": "code",
      "source": [
        "# Load the pre-trained model without the top (classification) layers\n",
        "pretrained_model = tf.keras.applications.DenseNet201(weights='imagenet', input_shape=(224,224,3),include_top=False,pooling='avg')\n",
        "\n",
        "# Freeze the pre-trained layers so they are not updated during training\n",
        "for layer in pretrained_model.layers:\n",
        "  layer.trainable = False"
      ],
      "metadata": {
        "id": "QctlVqTa2UzT",
        "colab": {
          "base_uri": "https://localhost:8080/"
        },
        "outputId": "f5c12a7f-2ef4-4040-8baf-ce05970a9f6d"
      },
      "execution_count": 18,
      "outputs": [
        {
          "output_type": "stream",
          "name": "stdout",
          "text": [
            "Downloading data from https://storage.googleapis.com/tensorflow/keras-applications/densenet/densenet201_weights_tf_dim_ordering_tf_kernels_notop.h5\n",
            "74836368/74836368 [==============================] - 3s 0us/step\n"
          ]
        }
      ]
    },
    {
      "cell_type": "code",
      "source": [
        "from tensorflow.keras import layers\n",
        "from keras.layers import Flatten\n",
        "from keras.layers import BatchNormalization\n",
        "\n",
        "inputs = pretrained_model.input\n",
        "x = Flatten()(pretrained_model.output)\n",
        "x = tf.keras.layers.Dense(512, activation='relu')(x)\n",
        "x = tf.keras.layers.Dense(512, activation='relu')(x)\n",
        "x = layers.Dropout(0.4)(x)  # Dropout layer dengan dropout rate 0.2\n",
        "outputs = tf.keras.layers.Dense(6, activation='softmax')(x)\n",
        "model = tf.keras.Model(inputs=inputs, outputs=outputs)"
      ],
      "metadata": {
        "id": "Vi0mv4Di2hiP"
      },
      "execution_count": 19,
      "outputs": []
    },
    {
      "cell_type": "code",
      "source": [
        "from tensorflow.keras.optimizers import Adam\n",
        "\n",
        "model.compile(optimizer=Adam(learning_rate=0.0001),loss='categorical_crossentropy',metrics=['accuracy'])"
      ],
      "metadata": {
        "id": "uKgowujr2kO3"
      },
      "execution_count": 20,
      "outputs": []
    },
    {
      "cell_type": "code",
      "source": [
        "his=model.fit(datagen.flow(trainx,trainy,batch_size=32),validation_data=(testx,testy),epochs=50)"
      ],
      "metadata": {
        "colab": {
          "base_uri": "https://localhost:8080/"
        },
        "id": "uf9UjWa-2msl",
        "outputId": "a23d9259-99ef-4d4e-c957-aebf441beb09"
      },
      "execution_count": 21,
      "outputs": [
        {
          "output_type": "stream",
          "name": "stdout",
          "text": [
            "Epoch 1/50\n",
            "9/9 [==============================] - 35s 1s/step - loss: 1.8728 - accuracy: 0.2292 - val_loss: 1.6357 - val_accuracy: 0.2917\n",
            "Epoch 2/50\n",
            "9/9 [==============================] - 5s 589ms/step - loss: 1.5744 - accuracy: 0.3681 - val_loss: 1.4005 - val_accuracy: 0.5972\n",
            "Epoch 3/50\n",
            "9/9 [==============================] - 5s 522ms/step - loss: 1.3236 - accuracy: 0.5278 - val_loss: 1.2442 - val_accuracy: 0.6667\n",
            "Epoch 4/50\n",
            "9/9 [==============================] - 4s 437ms/step - loss: 1.2032 - accuracy: 0.6076 - val_loss: 1.1211 - val_accuracy: 0.6667\n",
            "Epoch 5/50\n",
            "9/9 [==============================] - 5s 586ms/step - loss: 1.0028 - accuracy: 0.6979 - val_loss: 0.9578 - val_accuracy: 0.6944\n",
            "Epoch 6/50\n",
            "9/9 [==============================] - 5s 557ms/step - loss: 0.9452 - accuracy: 0.6979 - val_loss: 0.8677 - val_accuracy: 0.7361\n",
            "Epoch 7/50\n",
            "9/9 [==============================] - 7s 801ms/step - loss: 0.7833 - accuracy: 0.7882 - val_loss: 0.7907 - val_accuracy: 0.7222\n",
            "Epoch 8/50\n",
            "9/9 [==============================] - 4s 432ms/step - loss: 0.6888 - accuracy: 0.8333 - val_loss: 0.7160 - val_accuracy: 0.7222\n",
            "Epoch 9/50\n",
            "9/9 [==============================] - 4s 433ms/step - loss: 0.6453 - accuracy: 0.8090 - val_loss: 0.6618 - val_accuracy: 0.7917\n",
            "Epoch 10/50\n",
            "9/9 [==============================] - 4s 503ms/step - loss: 0.5887 - accuracy: 0.8333 - val_loss: 0.6098 - val_accuracy: 0.8056\n",
            "Epoch 11/50\n",
            "9/9 [==============================] - 4s 444ms/step - loss: 0.5090 - accuracy: 0.8819 - val_loss: 0.5443 - val_accuracy: 0.8333\n",
            "Epoch 12/50\n",
            "9/9 [==============================] - 4s 403ms/step - loss: 0.4943 - accuracy: 0.8750 - val_loss: 0.5374 - val_accuracy: 0.8472\n",
            "Epoch 13/50\n",
            "9/9 [==============================] - 5s 536ms/step - loss: 0.4494 - accuracy: 0.8715 - val_loss: 0.4573 - val_accuracy: 0.8611\n",
            "Epoch 14/50\n",
            "9/9 [==============================] - 4s 413ms/step - loss: 0.4390 - accuracy: 0.8785 - val_loss: 0.4248 - val_accuracy: 0.8750\n",
            "Epoch 15/50\n",
            "9/9 [==============================] - 4s 438ms/step - loss: 0.3833 - accuracy: 0.8958 - val_loss: 0.3984 - val_accuracy: 0.8889\n",
            "Epoch 16/50\n",
            "9/9 [==============================] - 4s 468ms/step - loss: 0.3478 - accuracy: 0.9028 - val_loss: 0.3687 - val_accuracy: 0.8889\n",
            "Epoch 17/50\n",
            "9/9 [==============================] - 4s 453ms/step - loss: 0.3294 - accuracy: 0.9167 - val_loss: 0.3678 - val_accuracy: 0.8750\n",
            "Epoch 18/50\n",
            "9/9 [==============================] - 4s 438ms/step - loss: 0.3153 - accuracy: 0.9028 - val_loss: 0.3328 - val_accuracy: 0.8889\n",
            "Epoch 19/50\n",
            "9/9 [==============================] - 6s 690ms/step - loss: 0.2841 - accuracy: 0.9201 - val_loss: 0.3109 - val_accuracy: 0.8889\n",
            "Epoch 20/50\n",
            "9/9 [==============================] - 4s 410ms/step - loss: 0.2850 - accuracy: 0.9132 - val_loss: 0.3062 - val_accuracy: 0.8750\n",
            "Epoch 21/50\n",
            "9/9 [==============================] - 4s 437ms/step - loss: 0.2603 - accuracy: 0.9410 - val_loss: 0.2891 - val_accuracy: 0.8750\n",
            "Epoch 22/50\n",
            "9/9 [==============================] - 5s 527ms/step - loss: 0.2415 - accuracy: 0.9410 - val_loss: 0.2673 - val_accuracy: 0.8889\n",
            "Epoch 23/50\n",
            "9/9 [==============================] - 4s 439ms/step - loss: 0.2209 - accuracy: 0.9479 - val_loss: 0.2771 - val_accuracy: 0.9028\n",
            "Epoch 24/50\n",
            "9/9 [==============================] - 4s 452ms/step - loss: 0.2416 - accuracy: 0.9306 - val_loss: 0.2602 - val_accuracy: 0.9028\n",
            "Epoch 25/50\n",
            "9/9 [==============================] - 5s 540ms/step - loss: 0.2006 - accuracy: 0.9479 - val_loss: 0.2311 - val_accuracy: 0.9167\n",
            "Epoch 26/50\n",
            "9/9 [==============================] - 4s 469ms/step - loss: 0.1699 - accuracy: 0.9618 - val_loss: 0.2461 - val_accuracy: 0.9306\n",
            "Epoch 27/50\n",
            "9/9 [==============================] - 4s 447ms/step - loss: 0.2048 - accuracy: 0.9375 - val_loss: 0.2206 - val_accuracy: 0.9306\n",
            "Epoch 28/50\n",
            "9/9 [==============================] - 4s 505ms/step - loss: 0.2021 - accuracy: 0.9514 - val_loss: 0.2319 - val_accuracy: 0.9167\n",
            "Epoch 29/50\n",
            "9/9 [==============================] - 5s 489ms/step - loss: 0.1650 - accuracy: 0.9583 - val_loss: 0.2046 - val_accuracy: 0.9167\n",
            "Epoch 30/50\n",
            "9/9 [==============================] - 4s 442ms/step - loss: 0.1700 - accuracy: 0.9479 - val_loss: 0.2032 - val_accuracy: 0.9444\n",
            "Epoch 31/50\n",
            "9/9 [==============================] - 4s 454ms/step - loss: 0.1580 - accuracy: 0.9653 - val_loss: 0.2083 - val_accuracy: 0.9583\n",
            "Epoch 32/50\n",
            "9/9 [==============================] - 5s 530ms/step - loss: 0.1361 - accuracy: 0.9653 - val_loss: 0.1929 - val_accuracy: 0.9028\n",
            "Epoch 33/50\n",
            "9/9 [==============================] - 4s 455ms/step - loss: 0.1499 - accuracy: 0.9653 - val_loss: 0.2029 - val_accuracy: 0.9167\n",
            "Epoch 34/50\n",
            "9/9 [==============================] - 4s 461ms/step - loss: 0.1474 - accuracy: 0.9549 - val_loss: 0.1763 - val_accuracy: 0.9583\n",
            "Epoch 35/50\n",
            "9/9 [==============================] - 4s 446ms/step - loss: 0.1160 - accuracy: 0.9792 - val_loss: 0.1857 - val_accuracy: 0.9306\n",
            "Epoch 36/50\n",
            "9/9 [==============================] - 4s 438ms/step - loss: 0.1328 - accuracy: 0.9583 - val_loss: 0.1803 - val_accuracy: 0.9306\n",
            "Epoch 37/50\n",
            "9/9 [==============================] - 4s 489ms/step - loss: 0.1154 - accuracy: 0.9688 - val_loss: 0.1690 - val_accuracy: 0.9444\n",
            "Epoch 38/50\n",
            "9/9 [==============================] - 4s 471ms/step - loss: 0.1127 - accuracy: 0.9826 - val_loss: 0.1615 - val_accuracy: 0.9583\n",
            "Epoch 39/50\n",
            "9/9 [==============================] - 4s 443ms/step - loss: 0.0900 - accuracy: 0.9826 - val_loss: 0.1640 - val_accuracy: 0.9306\n",
            "Epoch 40/50\n",
            "9/9 [==============================] - 4s 471ms/step - loss: 0.1139 - accuracy: 0.9722 - val_loss: 0.1718 - val_accuracy: 0.9444\n",
            "Epoch 41/50\n",
            "9/9 [==============================] - 6s 677ms/step - loss: 0.1058 - accuracy: 0.9826 - val_loss: 0.1554 - val_accuracy: 0.9583\n",
            "Epoch 42/50\n",
            "9/9 [==============================] - 4s 444ms/step - loss: 0.0817 - accuracy: 0.9896 - val_loss: 0.1970 - val_accuracy: 0.9306\n",
            "Epoch 43/50\n",
            "9/9 [==============================] - 4s 401ms/step - loss: 0.0850 - accuracy: 0.9861 - val_loss: 0.1433 - val_accuracy: 0.9306\n",
            "Epoch 44/50\n",
            "9/9 [==============================] - 5s 598ms/step - loss: 0.0954 - accuracy: 0.9792 - val_loss: 0.1768 - val_accuracy: 0.9583\n",
            "Epoch 45/50\n",
            "9/9 [==============================] - 4s 456ms/step - loss: 0.0920 - accuracy: 0.9722 - val_loss: 0.1483 - val_accuracy: 0.9722\n",
            "Epoch 46/50\n",
            "9/9 [==============================] - 6s 644ms/step - loss: 0.0947 - accuracy: 0.9826 - val_loss: 0.1471 - val_accuracy: 0.9444\n",
            "Epoch 47/50\n",
            "9/9 [==============================] - 4s 444ms/step - loss: 0.0872 - accuracy: 0.9792 - val_loss: 0.1556 - val_accuracy: 0.9583\n",
            "Epoch 48/50\n",
            "9/9 [==============================] - 4s 413ms/step - loss: 0.0749 - accuracy: 0.9826 - val_loss: 0.1392 - val_accuracy: 0.9444\n",
            "Epoch 49/50\n",
            "9/9 [==============================] - 5s 583ms/step - loss: 0.0862 - accuracy: 0.9722 - val_loss: 0.1606 - val_accuracy: 0.9444\n",
            "Epoch 50/50\n",
            "9/9 [==============================] - 4s 442ms/step - loss: 0.0817 - accuracy: 0.9826 - val_loss: 0.1745 - val_accuracy: 0.9306\n"
          ]
        }
      ]
    },
    {
      "cell_type": "code",
      "source": [
        "y_pred=model.predict(testx)\n",
        "pred=np.argmax(y_pred,axis=1)\n",
        "ground = np.argmax(testy,axis=1)\n",
        "print(classification_report(ground,pred))"
      ],
      "metadata": {
        "id": "cdHJscND5gJ5",
        "colab": {
          "base_uri": "https://localhost:8080/"
        },
        "outputId": "ad2ccd64-559b-4c80-bfda-7515dc52ca49"
      },
      "execution_count": 22,
      "outputs": [
        {
          "output_type": "stream",
          "name": "stdout",
          "text": [
            "3/3 [==============================] - 4s 171ms/step\n",
            "              precision    recall  f1-score   support\n",
            "\n",
            "           0       1.00      0.83      0.91        12\n",
            "           1       0.92      0.92      0.92        13\n",
            "           2       0.93      1.00      0.97        14\n",
            "           3       0.79      1.00      0.88        11\n",
            "           4       1.00      0.83      0.91        12\n",
            "           5       1.00      1.00      1.00        10\n",
            "\n",
            "    accuracy                           0.93        72\n",
            "   macro avg       0.94      0.93      0.93        72\n",
            "weighted avg       0.94      0.93      0.93        72\n",
            "\n"
          ]
        }
      ]
    },
    {
      "cell_type": "code",
      "source": [
        "get_acc = his.history['accuracy']\n",
        "value_acc = his.history['val_accuracy']\n",
        "get_loss = his.history['loss']\n",
        "validation_loss = his.history['val_loss']\n",
        "\n",
        "epochs = range(len(get_acc))\n",
        "plt.plot(epochs, get_acc, 'r', label='Accuracy of Training data')\n",
        "plt.plot(epochs, value_acc, 'b', label='Accuracy of Validation data')\n",
        "plt.title('Training vs validation accuracy')\n",
        "plt.legend(loc=0)\n",
        "plt.figure()\n",
        "plt.show()"
      ],
      "metadata": {
        "id": "9ZsiLopX5qcc",
        "colab": {
          "base_uri": "https://localhost:8080/",
          "height": 469
        },
        "outputId": "889c1756-3996-4af8-ed2e-0c44eb104d31"
      },
      "execution_count": 23,
      "outputs": [
        {
          "output_type": "display_data",
          "data": {
            "text/plain": [
              "<Figure size 640x480 with 1 Axes>"
            ],
            "image/png": "[encoded data removed]"
          },
          "metadata": {}
        },
        {
          "output_type": "display_data",
          "data": {
            "text/plain": [
              "<Figure size 640x480 with 0 Axes>"
            ]
          },
          "metadata": {}
        }
      ]
    },
    {
      "cell_type": "code",
      "source": [
        "epochs = range(len(get_loss))\n",
        "plt.plot(epochs, get_loss, 'r', label='Loss of Training data')\n",
        "plt.plot(epochs, validation_loss, 'b', label='Loss of Validation data')\n",
        "plt.title('Training vs validation loss')\n",
        "plt.legend(loc=0)\n",
        "plt.figure()\n",
        "plt.show()"
      ],
      "metadata": {
        "id": "p-hVjBz45v4k",
        "colab": {
          "base_uri": "https://localhost:8080/",
          "height": 469
        },
        "outputId": "6382fd14-a5b8-4cd5-d005-7a92ef2b511c"
      },
      "execution_count": 24,
      "outputs": [
        {
          "output_type": "display_data",
          "data": {
            "text/plain": [
              "<Figure size 640x480 with 1 Axes>"
            ],
            "image/png": "[encoded data removed]"
          },
          "metadata": {}
        },
        {
          "output_type": "display_data",
          "data": {
            "text/plain": [
              "<Figure size 640x480 with 0 Axes>"
            ]
          },
          "metadata": {}
        }
      ]
    },
    {
      "cell_type": "code",
      "execution_count": 37,
      "metadata": {
        "id": "DoWp43WxJDNT",
        "colab": {
          "base_uri": "https://localhost:8080/",
          "height": 142
        },
        "outputId": "fcc58f0c-466f-4435-c8b7-8d8ae85a4777"
      },
      "outputs": [
        {
          "output_type": "display_data",
          "data": {
            "text/plain": [
              "<IPython.core.display.HTML object>"
            ],
            "text/html": [
              "\n",
              "     <input type=\"file\" id=\"files-ecaa9911-df63-46b2-920b-2463297c0343\" name=\"files[]\" multiple disabled\n",
              "        style=\"border:none\" />\n",
              "     <output id=\"result-ecaa9911-df63-46b2-920b-2463297c0343\">\n",
              "      Upload widget is only available when the cell has been executed in the\n",
              "      current browser session. Please rerun this cell to enable.\n",
              "      </output>\n",
              "      <script>// Copyright 2017 Google LLC\n",
              "//\n",
              "// Licensed under the Apache License, Version 2.0 (the \"License\");\n",
              "// you may not use this file except in compliance with the License.\n",
              "// You may obtain a copy of the License at\n",
              "//\n",
              "//      http://www.apache.org/licenses/LICENSE-2.0\n",
              "//\n",
              "// Unless required by applicable law or agreed to in writing, software\n",
              "// distributed under the License is distributed on an \"AS IS\" BASIS,\n",
              "// WITHOUT WARRANTIES OR CONDITIONS OF ANY KIND, either express or implied.\n",
              "// See the License for the specific language governing permissions and\n",
              "// limitations under the License.\n",
              "\n",
              "/**\n",
              " * @fileoverview Helpers for google.colab Python module.\n",
              " */\n",
              "(function(scope) {\n",
              "function span(text, styleAttributes = {}) {\n",
              "  const element = document.createElement('span');\n",
              "  element.textContent = text;\n",
              "  for (const key of Object.keys(styleAttributes)) {\n",
              "    element.style[key] = styleAttributes[key];\n",
              "  }\n",
              "  return element;\n",
              "}\n",
              "\n",
              "// Max number of bytes which will be uploaded at a time.\n",
              "const MAX_PAYLOAD_SIZE = 100 * 1024;\n",
              "\n",
              "function _uploadFiles(inputId, outputId) {\n",
              "  const steps = uploadFilesStep(inputId, outputId);\n",
              "  const outputElement = document.getElementById(outputId);\n",
              "  // Cache steps on the outputElement to make it available for the next call\n",
              "  // to uploadFilesContinue from Python.\n",
              "  outputElement.steps = steps;\n",
              "\n",
              "  return _uploadFilesContinue(outputId);\n",
              "}\n",
              "\n",
              "// This is roughly an async generator (not supported in the browser yet),\n",
              "// where there are multiple asynchronous steps and the Python side is going\n",
              "// to poll for completion of each step.\n",
              "// This uses a Promise to block the python side on completion of each step,\n",
              "// then passes the result of the previous step as the input to the next step.\n",
              "function _uploadFilesContinue(outputId) {\n",
              "  const outputElement = document.getElementById(outputId);\n",
              "  const steps = outputElement.steps;\n",
              "\n",
              "  const next = steps.next(outputElement.lastPromiseValue);\n",
              "  return Promise.resolve(next.value.promise).then((value) => {\n",
              "    // Cache the last promise value to make it available to the next\n",
              "    // step of the generator.\n",
              "    outputElement.lastPromiseValue = value;\n",
              "    return next.value.response;\n",
              "  });\n",
              "}\n",
              "\n",
              "/**\n",
              " * Generator function which is called between each async step of the upload\n",
              " * process.\n",
              " * @param {string} inputId Element ID of the input file picker element.\n",
              " * @param {string} outputId Element ID of the output display.\n",
              " * @return {!Iterable<!Object>} Iterable of next steps.\n",
              " */\n",
              "function* uploadFilesStep(inputId, outputId) {\n",
              "  const inputElement = document.getElementById(inputId);\n",
              "  inputElement.disabled = false;\n",
              "\n",
              "  const outputElement = document.getElementById(outputId);\n",
              "  outputElement.innerHTML = '';\n",
              "\n",
              "  const pickedPromise = new Promise((resolve) => {\n",
              "    inputElement.addEventListener('change', (e) => {\n",
              "      resolve(e.target.files);\n",
              "    });\n",
              "  });\n",
              "\n",
              "  const cancel = document.createElement('button');\n",
              "  inputElement.parentElement.appendChild(cancel);\n",
              "  cancel.textContent = 'Cancel upload';\n",
              "  const cancelPromise = new Promise((resolve) => {\n",
              "    cancel.onclick = () => {\n",
              "      resolve(null);\n",
              "    };\n",
              "  });\n",
              "\n",
              "  // Wait for the user to pick the files.\n",
              "  const files = yield {\n",
              "    promise: Promise.race([pickedPromise, cancelPromise]),\n",
              "    response: {\n",
              "      action: 'starting',\n",
              "    }\n",
              "  };\n",
              "\n",
              "  cancel.remove();\n",
              "\n",
              "  // Disable the input element since further picks are not allowed.\n",
              "  inputElement.disabled = true;\n",
              "\n",
              "  if (!files) {\n",
              "    return {\n",
              "      response: {\n",
              "        action: 'complete',\n",
              "      }\n",
              "    };\n",
              "  }\n",
              "\n",
              "  for (const file of files) {\n",
              "    const li = document.createElement('li');\n",
              "    li.append(span(file.name, {fontWeight: 'bold'}));\n",
              "    li.append(span(\n",
              "        `(${file.type || 'n/a'}) - ${file.size} bytes, ` +\n",
              "        `last modified: ${\n",
              "            file.lastModifiedDate ? file.lastModifiedDate.toLocaleDateString() :\n",
              "                                    'n/a'} - `));\n",
              "    const percent = span('0% done');\n",
              "    li.appendChild(percent);\n",
              "\n",
              "    outputElement.appendChild(li);\n",
              "\n",
              "    const fileDataPromise = new Promise((resolve) => {\n",
              "      const reader = new FileReader();\n",
              "      reader.onload = (e) => {\n",
              "        resolve(e.target.result);\n",
              "      };\n",
              "      reader.readAsArrayBuffer(file);\n",
              "    });\n",
              "    // Wait for the data to be ready.\n",
              "    let fileData = yield {\n",
              "      promise: fileDataPromise,\n",
              "      response: {\n",
              "        action: 'continue',\n",
              "      }\n",
              "    };\n",
              "\n",
              "    // Use a chunked sending to avoid message size limits. See b/62115660.\n",
              "    let position = 0;\n",
              "    do {\n",
              "      const length = Math.min(fileData.byteLength - position, MAX_PAYLOAD_SIZE);\n",
              "      const chunk = new Uint8Array(fileData, position, length);\n",
              "      position += length;\n",
              "\n",
              "      const base64 = btoa(String.fromCharCode.apply(null, chunk));\n",
              "      yield {\n",
              "        response: {\n",
              "          action: 'append',\n",
              "          file: file.name,\n",
              "          data: base64,\n",
              "        },\n",
              "      };\n",
              "\n",
              "      let percentDone = fileData.byteLength === 0 ?\n",
              "          100 :\n",
              "          Math.round((position / fileData.byteLength) * 100);\n",
              "      percent.textContent = `${percentDone}% done`;\n",
              "\n",
              "    } while (position < fileData.byteLength);\n",
              "  }\n",
              "\n",
              "  // All done.\n",
              "  yield {\n",
              "    response: {\n",
              "      action: 'complete',\n",
              "    }\n",
              "  };\n",
              "}\n",
              "\n",
              "scope.google = scope.google || {};\n",
              "scope.google.colab = scope.google.colab || {};\n",
              "scope.google.colab._files = {\n",
              "  _uploadFiles,\n",
              "  _uploadFilesContinue,\n",
              "};\n",
              "})(self);\n",
              "</script> "
            ]
          },
          "metadata": {}
        },
        {
          "output_type": "stream",
          "name": "stdout",
          "text": [
            "Saving 25.jpg to 25.jpg\n",
            "1/1 [==============================] - 0s 52ms/step\n",
            "[2.1504613e-03 3.4155333e-04 2.4816629e-06 1.0300402e-03 9.8226649e-01\n",
            " 1.4208937e-02]\n",
            "Prediction is Aphids.\n"
          ]
        }
      ],
      "source": [
        "## NOTE: If you are using Safari and this cell throws an error,\n",
        "## please skip this block and run the next one instead.\n",
        "\n",
        "import numpy as np\n",
        "\n",
        "from google.colab import files\n",
        "from tensorflow.keras.utils import load_img, img_to_array\n",
        "\n",
        "uploaded=files.upload()\n",
        "\n",
        "for fn in uploaded.keys():\n",
        " \n",
        "  # predicting images\n",
        "  path='/content/' + fn\n",
        "  img=load_img(path, target_size=(224, 224))\n",
        "  \n",
        "  x=img_to_array(img)\n",
        "  x /= 255\n",
        "  x=np.expand_dims(x, axis=0)\n",
        "  images = np.vstack([x])\n",
        "  \n",
        "  classes = model.predict(images, batch_size=10)\n",
        "\n",
        "  print(classes[0])\n",
        "  value=np.argmax(classes)\n",
        "  move_name=mapper(value)\n",
        "  \n",
        "  print(\"Prediction is {}.\".format(move_name))\n",
        " "
      ]
    },
    {
      "cell_type": "code",
      "source": [
        "print(test.shape)\n",
        "prediction2=model.predict(test)\n",
        "print(prediction2.shape)\n",
        "\n",
        "PRED=[]\n",
        "for item in prediction2:\n",
        "    value2=np.argmax(item)      \n",
        "    PRED+=[value2]"
      ],
      "metadata": {
        "id": "WkjTePve_suR",
        "colab": {
          "base_uri": "https://localhost:8080/"
        },
        "outputId": "045f41d4-a91d-4313-93fa-32a19ad2b830"
      },
      "execution_count": 38,
      "outputs": [
        {
          "output_type": "stream",
          "name": "stdout",
          "text": [
            "(2020, 224, 224, 3)\n",
            "64/64 [==============================] - 11s 177ms/step\n",
            "(2020, 6)\n"
          ]
        }
      ]
    },
    {
      "cell_type": "code",
      "source": [
        "ANS=tlabels0"
      ],
      "metadata": {
        "id": "5a5V-jyB_uRm"
      },
      "execution_count": 39,
      "outputs": []
    },
    {
      "cell_type": "code",
      "source": [
        "accuracy=accuracy_score(ANS,PRED)\n",
        "print(accuracy)"
      ],
      "metadata": {
        "id": "m3L9Y6ll_v6o",
        "colab": {
          "base_uri": "https://localhost:8080/"
        },
        "outputId": "8e0c431a-d287-4793-a3f7-b0022f735c23"
      },
      "execution_count": 40,
      "outputs": [
        {
          "output_type": "stream",
          "name": "stdout",
          "text": [
            "0.9183168316831684\n"
          ]
        }
      ]
    },
    {
      "cell_type": "code",
      "source": [
        "# Save model weights and architecture\n",
        "model.save_weights('/content/drive/MyDrive/cotton/model_weights.h5')\n",
        "model.save('/content/drive/MyDrive/cotton/model_saved.h5')"
      ],
      "metadata": {
        "id": "tDwa6A4KN1ev"
      },
      "execution_count": 44,
      "outputs": []
    },
    {
      "cell_type": "code",
      "source": [
        "from tensorflow.keras.models import load_model\n",
        "\n",
        "# Load model architectur\n",
        "loaded_model = load_model('/content/drive/MyDrive/cotton/model_saved.h5')\n",
        "\n",
        "# Load model weights\n",
        "loaded_model.load_weights('/content/drive/MyDrive/cotton/model_weights.h5')"
      ],
      "metadata": {
        "id": "8JHxG5uDLr3Q"
      },
      "execution_count": 46,
      "outputs": []
    },
    {
      "cell_type": "code",
      "source": [
        "export = '/content/drive/MyDrive/cotton/saved_model'\n",
        "tf.saved_model.save(model, export)"
      ],
      "metadata": {
        "colab": {
          "base_uri": "https://localhost:8080/"
        },
        "id": "eVCewgFSMU9b",
        "outputId": "1dbfb4c9-5f42-4ea3-fe19-522f447d130c"
      },
      "execution_count": 47,
      "outputs": [
        {
          "output_type": "stream",
          "name": "stderr",
          "text": [
            "WARNING:absl:Found untraced functions such as _jit_compiled_convolution_op, _jit_compiled_convolution_op, _jit_compiled_convolution_op, _jit_compiled_convolution_op, _jit_compiled_convolution_op while saving (showing 5 of 200). These functions will not be directly callable after loading.\n"
          ]
        }
      ]
    },
    {
      "cell_type": "code",
      "source": [
        "# Select mode of optimization\n",
        "mode = \"Storage\" \n",
        "\n",
        "if mode == 'Storage':\n",
        "    optimization = tf.lite.Optimize.OPTIMIZE_FOR_SIZE\n",
        "elif mode == 'Speed':\n",
        "    optimization = tf.lite.Optimize.OPTIMIZE_FOR_LATENCY\n",
        "else:\n",
        "    optimization = tf.lite.Optimize.DEFAULT"
      ],
      "metadata": {
        "id": "KXxxE7XmM6LI"
      },
      "execution_count": 48,
      "outputs": []
    },
    {
      "cell_type": "code",
      "source": [
        "converter = tf.lite.TFLiteConverter.from_saved_model(export)\n",
        "converter.optimizations = [optimization]\n",
        "tflite_model = converter.convert();"
      ],
      "metadata": {
        "colab": {
          "base_uri": "https://localhost:8080/"
        },
        "id": "2XP-CPRqNCEV",
        "outputId": "83e3981a-e687-4d45-d284-dd06e62ea992"
      },
      "execution_count": 49,
      "outputs": [
        {
          "output_type": "stream",
          "name": "stderr",
          "text": [
            "WARNING:absl:Optimization option OPTIMIZE_FOR_SIZE is deprecated, please use optimizations=[Optimize.DEFAULT] instead.\n",
            "WARNING:absl:Optimization option OPTIMIZE_FOR_SIZE is deprecated, please use optimizations=[Optimize.DEFAULT] instead.\n",
            "WARNING:absl:Optimization option OPTIMIZE_FOR_SIZE is deprecated, please use optimizations=[Optimize.DEFAULT] instead.\n"
          ]
        }
      ]
    },
    {
      "cell_type": "code",
      "source": [
        "import pathlib\n",
        "tflite_model_file = pathlib.Path('./model.tflite')\n",
        "tflite_model_file.write_bytes(tflite_model)"
      ],
      "metadata": {
        "colab": {
          "base_uri": "https://localhost:8080/"
        },
        "id": "BDaWglAgNERw",
        "outputId": "375829e4-3c80-4782-b3b2-a90bdbed0e7c"
      },
      "execution_count": 51,
      "outputs": [
        {
          "output_type": "execute_result",
          "data": {
            "text/plain": [
              "20361352"
            ]
          },
          "metadata": {},
          "execution_count": 51
        }
      ]
    },
    {
      "cell_type": "code",
      "source": [],
      "metadata": {
        "id": "MXUKpVXnNLRu"
      },
      "execution_count": null,
      "outputs": []
    }
  ]
}